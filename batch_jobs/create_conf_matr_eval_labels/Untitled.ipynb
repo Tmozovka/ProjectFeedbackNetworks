{
 "cells": [
  {
   "cell_type": "code",
   "execution_count": null,
   "id": "428a0db1-1113-43a6-aa82-dffd52dafa78",
   "metadata": {},
   "outputs": [
    {
     "name": "stderr",
     "output_type": "stream",
     "text": [
      "2023-02-22 13:05:10.333082: I tensorflow/core/platform/cpu_feature_guard.cc:193] This TensorFlow binary is optimized with oneAPI Deep Neural Network Library (oneDNN) to use the following CPU instructions in performance-critical operations:  AVX2 AVX512F AVX512_VNNI FMA\n",
      "To enable them in other operations, rebuild TensorFlow with the appropriate compiler flags.\n",
      "2023-02-22 13:05:17.218964: I tensorflow/core/util/port.cc:104] oneDNN custom operations are on. You may see slightly different numerical results due to floating-point round-off errors from different computation orders. To turn them off, set the environment variable `TF_ENABLE_ONEDNN_OPTS=0`.\n",
      "2023-02-22 13:05:40.210122: W tensorflow/compiler/xla/stream_executor/platform/default/dso_loader.cc:64] Could not load dynamic library 'libnvinfer.so.7'; dlerror: libnvinfer.so.7: cannot open shared object file: No such file or directory; LD_LIBRARY_PATH: /opt/bwhpc/common/devel/cuda/11.8/lib64\n",
      "2023-02-22 13:05:40.217208: W tensorflow/compiler/xla/stream_executor/platform/default/dso_loader.cc:64] Could not load dynamic library 'libnvinfer_plugin.so.7'; dlerror: libnvinfer_plugin.so.7: cannot open shared object file: No such file or directory; LD_LIBRARY_PATH: /opt/bwhpc/common/devel/cuda/11.8/lib64\n",
      "2023-02-22 13:05:40.217225: W tensorflow/compiler/tf2tensorrt/utils/py_utils.cc:38] TF-TRT Warning: Cannot dlopen some TensorRT libraries. If you would like to use Nvidia GPU with TensorRT, please make sure the missing libraries mentioned above are installed properly.\n",
      "2023-02-22 13:06:29.663368: W tensorflow/compiler/xla/stream_executor/platform/default/dso_loader.cc:64] Could not load dynamic library 'libcuda.so.1'; dlerror: libcuda.so.1: cannot open shared object file: No such file or directory; LD_LIBRARY_PATH: /opt/bwhpc/common/devel/cuda/11.8/lib64\n",
      "2023-02-22 13:06:29.663425: W tensorflow/compiler/xla/stream_executor/cuda/cuda_driver.cc:265] failed call to cuInit: UNKNOWN ERROR (303)\n",
      "2023-02-22 13:06:29.663457: I tensorflow/compiler/xla/stream_executor/cuda/cuda_diagnostics.cc:156] kernel driver does not appear to be running on this host (uc2n476.localdomain): /proc/driver/nvidia/version does not exist\n",
      "2023-02-22 13:06:29.926853: I tensorflow/core/platform/cpu_feature_guard.cc:193] This TensorFlow binary is optimized with oneAPI Deep Neural Network Library (oneDNN) to use the following CPU instructions in performance-critical operations:  AVX2 AVX512F AVX512_VNNI FMA\n",
      "To enable them in other operations, rebuild TensorFlow with the appropriate compiler flags.\n"
     ]
    },
    {
     "name": "stdout",
     "output_type": "stream",
     "text": [
      "WARNING:tensorflow:There are non-GPU devices in `tf.distribute.Strategy`, not using nccl allreduce.\n",
      "INFO:tensorflow:Using MirroredStrategy with devices ('/job:localhost/replica:0/task:0/device:CPU:0',)\n"
     ]
    }
   ],
   "source": [
    "import sys\n",
    "import os\n",
    "sys.path.append('../../')\n",
    "import tensorflow as tf\n",
    "import keras\n",
    "from src.models.FeedbackModelBuilder import VGG16FeedbackFrozen4BlockTo1Block\n",
    "from src.models.ForwardModelBuilder import VGG16Custom5BlockNotFrozen\n",
    "from src.DatasetNoise import tf_gaussian_noise, tf_salt_pepper_noise\n",
    "from src.Evaluation import get_confusion_matrix_for_model_and_data, visualize_confusion_matrix\n",
    "\n",
    "\n",
    "batch_size = 8\n",
    "num_classes = 16\n",
    "img_size = 224\n",
    "input_shape = (None, img_size, img_size, 3) \n",
    "\n",
    "path_to_datasets = '../../../../experiments/create_datasets/normalize_dataset/saved_datasets/'\n",
    "\n",
    "test_ds_prepared_without_batch = tf.data.Dataset.load(os.path.join(path_to_datasets, \"test_ds_without_batching\"))\n",
    "\n",
    "models = {\n",
    "\"frozenVGG-Fb_4bl_to_1bl\": {\n",
    "    \"model_class\": VGG16FeedbackFrozen4BlockTo1Block,\n",
    "    \"checkpoint_filepath\":\"../../models/frozenVGG16/Feedback_4block_to_1block/checkpoint\"\n",
    "                                         },\n",
    "\"frozenVGGGaus-Fb_4bl_to_1bl\": {\n",
    "    \"model_class\": VGG16FeedbackFrozen4BlockTo1Block,\n",
    "    \"checkpoint_filepath\":\"../../models/frozenVGG16TrainGaussianNoise/Feedback_4block_to_1block/checkpoint\"\n",
    "                                         },\n",
    "\"frozenVGG-Fr_5_bl_not_froz\": {\n",
    "    \"model_class\": VGG16Custom5BlockNotFrozen,\n",
    "    \"checkpoint_filepath\":\"../../models/frozenVGG16/Forward_5block_not_frozen/checkpoint\"\n",
    "                                         },\n",
    "\"frozenVGGGaus-Fr_5_bl_not_froz\": {\n",
    "    \"model_class\": VGG16Custom5BlockNotFrozen,\n",
    "    \"checkpoint_filepath\":\"../../models/frozenVGG16TrainGaussianNoise/Forward_5block_not_frozen/checkpoint\"\n",
    "                                         },\n",
    "}\n",
    "datasets = {\"without_noise\": test_ds_prepared_without_batch.batch(batch_size),#.prefetch(4),\n",
    "           \"gaussian_noise\": test_ds_prepared_without_batch.map(tf_gaussian_noise).batch(batch_size),#.prefetch(4),\n",
    "           \"salt_pepper_noise\": test_ds_prepared_without_batch.map(tf_salt_pepper_noise).batch(batch_size)}#.prefetch(4)}\n",
    "\n",
    "\n",
    "def build_model(model_class, model_checkpoint_filepath):\n",
    "    sample = next(iter(test_ds))[0]\n",
    "    model = model_class()\n",
    "    model.build(input_shape)\n",
    "    model(sample)\n",
    "    model.summary(show_trainable=True)\n",
    "    model.load_weights(model_checkpoint_filepath)\n",
    "    return model\n",
    "\n",
    "\n",
    "\n",
    "tf.debugging.set_log_device_placement(True)\n",
    "gpus = tf.config.list_logical_devices('GPU')\n",
    "strategy = tf.distribute.MirroredStrategy(gpus)\n",
    "all_result = dict()\n",
    "with strategy.scope():\n",
    "    for model_name, model_inf in models.items():\n",
    "        for ds_name, test_ds in datasets.items():\n",
    "            X_test = list(map(lambda x: x[0], test_ds))\n",
    "            y_test = list(map(lambda x: x[1], test_ds))\n",
    "\n",
    "            model_class = model_inf[\"model_class\"]\n",
    "            model_checkpoint_filepath = model_inf[\"checkpoint_filepath\"]\n",
    "            model = build_model(model_class, model_checkpoint_filepath)\n",
    "\n",
    "            confusion_matrix = get_confusion_matrix_for_model_and_data(model, X_test, y_test)\n",
    "            path_to_save = f\"confusion_matr_{model_name}_on_{dataset_name}.csv\"\n",
    "            visualize_confusion_matrix(confusion_matrix, model_name = model_name, dataset_name = dataset_name, path_to_save = path_to_save)"
   ]
  },
  {
   "cell_type": "code",
   "execution_count": null,
   "id": "364ded2d-7a33-4ae8-bd84-b4d5fc268be6",
   "metadata": {},
   "outputs": [],
   "source": []
  }
 ],
 "metadata": {
  "kernelspec": {
   "display_name": "Python (tfds2)",
   "language": "python",
   "name": "tfds2"
  },
  "language_info": {
   "codemirror_mode": {
    "name": "ipython",
    "version": 3
   },
   "file_extension": ".py",
   "mimetype": "text/x-python",
   "name": "python",
   "nbconvert_exporter": "python",
   "pygments_lexer": "ipython3",
   "version": "3.8.6"
  }
 },
 "nbformat": 4,
 "nbformat_minor": 5
}
