{
 "cells": [
  {
   "cell_type": "code",
   "execution_count": 15,
   "id": "617e0a33-fc2a-4fec-89b1-0ccc9f1730c4",
   "metadata": {},
   "outputs": [],
   "source": [
    "import os"
   ]
  },
  {
   "cell_type": "code",
   "execution_count": 18,
   "id": "1eda5019-5aee-4175-a751-e732aa9940ac",
   "metadata": {},
   "outputs": [
    {
     "name": "stdout",
     "output_type": "stream",
     "text": [
      "./Mc_Nemar_Test_diff_num_proj_layers_5_to_3_bl\n",
      "./Mc_Nemar_Test_diff_num_proj_layers_5_to_3_bl/not_signif_diff\n",
      "./Mc_Nemar_Test_diff_num_proj_layers_5_to_3_bl/not_signif_diff/frozVGG-Fb_5bl_to_3bl_frozVGG-Fb_4bl_to_1bl_2_prl\n",
      "./Mc_Nemar_Test_diff_num_proj_layers_5_to_3_bl/not_signif_diff/frozVGG-Fb_5bl_to_3bl_frozVGG-Fb_4bl_to_1bl_2_prl/.ipynb_checkpoints\n",
      "./Mc_Nemar_Test_diff_num_proj_layers_5_to_3_bl/not_signif_diff/frozVGG-Fb_4bl_to_4bl_3_prl_frozVGG-Fb_4bl_to_1bl_2_prl\n",
      "./Mc_Nemar_Test_diff_num_proj_layers_5_to_3_bl/not_signif_diff/frozVGG-Fb_4bl_to_4bl_3_prl_frozVGG-Fb_4bl_to_1bl_2_prl/.ipynb_checkpoints\n",
      "./Mc_Nemar_Test_diff_num_proj_layers_5_to_3_bl/not_signif_diff/frozVGG-Fb_5bl_to_3bl_frozVGG-Fb_4bl_to_4bl_3_prl\n",
      "./Mc_Nemar_Test_diff_num_proj_layers_5_to_3_bl/not_signif_diff/frozVGG-Fb_5bl_to_3bl_frozVGG-Fb_4bl_to_4bl_3_prl/.ipynb_checkpoints\n",
      "./Mc_Nemar_Test_diff_num_proj_layers_5_to_3_bl/not_signif_diff/.ipynb_checkpoints\n",
      "./Mc_Nemar_Test_diff_num_proj_layers_5_to_3_bl/salt_pep_noise\n",
      "./Mc_Nemar_Test_diff_num_proj_layers_5_to_3_bl/salt_pep_noise/signif_diff\n",
      "./Mc_Nemar_Test_diff_num_proj_layers_5_to_3_bl/salt_pep_noise/signif_diff/frozVGG-Fb_5bl_to_3bl_frozVGG-Fb_4bl_to_1bl_2_prl\n",
      "./Mc_Nemar_Test_diff_num_proj_layers_5_to_3_bl/salt_pep_noise/signif_diff/frozVGG-Fb_5bl_to_3bl_frozVGG-Fb_4bl_to_4bl_3_prl\n",
      "./Mc_Nemar_Test_diff_num_proj_layers_5_to_3_bl/salt_pep_noise/not_signif_diff\n",
      "./Mc_Nemar_Test_diff_num_proj_layers_5_to_3_bl/salt_pep_noise/not_signif_diff/frozVGG-Fb_4bl_to_4bl_3_prl_frozVGG-Fb_4bl_to_1bl_2_prl\n",
      "./Mc_Nemar_Test_diff_num_proj_layers_5_to_3_bl/salt_pep_noise/not_signif_diff/.ipynb_checkpoints\n",
      "./Mc_Nemar_Test_diff_num_proj_layers_5_to_3_bl/salt_pep_noise/.ipynb_checkpoints\n",
      "./Mc_Nemar_Test_diff_num_proj_layers_5_to_3_bl/gaus_noise\n",
      "./Mc_Nemar_Test_diff_num_proj_layers_5_to_3_bl/gaus_noise/signif_diff\n",
      "./Mc_Nemar_Test_diff_num_proj_layers_5_to_3_bl/gaus_noise/signif_diff/frozVGG-Fb_5bl_to_3bl_frozVGG-Fb_4bl_to_1bl_2_prl\n",
      "./Mc_Nemar_Test_diff_num_proj_layers_5_to_3_bl/gaus_noise/signif_diff/frozVGG-Fb_4bl_to_4bl_3_prl_frozVGG-Fb_4bl_to_1bl_2_prl\n",
      "./Mc_Nemar_Test_diff_num_proj_layers_5_to_3_bl/gaus_noise/signif_diff/frozVGG-Fb_5bl_to_3bl_frozVGG-Fb_4bl_to_4bl_3_prl\n",
      "./Mc_Nemar_Test_diff_num_proj_layers_5_to_3_bl/gaus_noise/signif_diff/.ipynb_checkpoints\n",
      "./Mc_Nemar_Test_diff_num_proj_layers_5_to_3_bl/gaus_noise/.ipynb_checkpoints\n",
      "./Mc_Nemar_Test_diff_num_proj_layers_5_to_3_bl/no_noise\n",
      "./Mc_Nemar_Test_diff_num_proj_layers_5_to_3_bl/no_noise/not_signif_diff\n",
      "./Mc_Nemar_Test_diff_num_proj_layers_5_to_3_bl/no_noise/not_signif_diff/frozVGG-Fb_5bl_to_3bl_frozVGG-Fb_4bl_to_1bl_2_prl\n",
      "./Mc_Nemar_Test_diff_num_proj_layers_5_to_3_bl/no_noise/not_signif_diff/frozVGG-Fb_4bl_to_4bl_3_prl_frozVGG-Fb_4bl_to_1bl_2_prl\n",
      "./Mc_Nemar_Test_diff_num_proj_layers_5_to_3_bl/no_noise/not_signif_diff/frozVGG-Fb_5bl_to_3bl_frozVGG-Fb_4bl_to_4bl_3_prl\n",
      "./Mc_Nemar_Test_diff_num_proj_layers_5_to_3_bl/no_noise/not_signif_diff/.ipynb_checkpoints\n",
      "./Mc_Nemar_Test_diff_num_proj_layers_5_to_3_bl/.ipynb_checkpoints\n",
      "./Mc_Nemar_Test_result_presentation\n",
      "./Mc_Nemar_Test_result_presentation/4_to_1_bl\n",
      "./Mc_Nemar_Test_result_presentation/4_to_1_bl/signif_diff\n",
      "./Mc_Nemar_Test_result_presentation/4_to_1_bl/signif_diff/frozVGG-Fr_5_bl_not_froz_frozVGGGaus-Fr_5_bl_not_froz\n",
      "./Mc_Nemar_Test_result_presentation/4_to_1_bl/signif_diff/frozVGGGaus-Fb_4bl_to_1bl_frozVGGGaus-Fr_5_bl_not_froz\n",
      "./Mc_Nemar_Test_result_presentation/4_to_1_bl/signif_diff/frozVGGGaus-Fb_4bl_to_1bl_frozVGGGaus-Fr_5_bl_not_froz/.ipynb_checkpoints\n",
      "./Mc_Nemar_Test_result_presentation/4_to_1_bl/signif_diff/frozVGG-Fb_4bl_to_1bl_frozVGGGaus-Fr_5_bl_not_froz\n",
      "./Mc_Nemar_Test_result_presentation/4_to_1_bl/signif_diff/frozVGGGaus-Fb_4bl_to_1bl_frozVGG-Fr_5_bl_not_froz\n",
      "./Mc_Nemar_Test_result_presentation/4_to_1_bl/signif_diff/frozVGG-Fb_4bl_to_1bl_frozVGGGaus-Fb_4bl_to_1bl\n",
      "./Mc_Nemar_Test_result_presentation/4_to_1_bl/signif_diff/frozVGG-Fb_4bl_to_1bl_frozVGGGaus-Fb_4bl_to_1bl/.ipynb_checkpoints\n",
      "./Mc_Nemar_Test_result_presentation/4_to_1_bl/not_signif_diff\n",
      "./Mc_Nemar_Test_result_presentation/4_to_1_bl/not_signif_diff/frozVGG-Fb_4bl_to_1bl_frozVGG-Fr_5_bl_not_froz\n",
      "./Mc_Nemar_Test_result_presentation/4_to_1_bl/not_signif_diff/frozVGG-Fb_4bl_to_1bl_frozVGG-Fr_5_bl_not_froz/.ipynb_checkpoints\n",
      "./Mc_Nemar_Test_result_presentation/4_to_1_bl/salt_pep_noise\n",
      "./Mc_Nemar_Test_result_presentation/4_to_1_bl/salt_pep_noise/signif_diff\n",
      "./Mc_Nemar_Test_result_presentation/4_to_1_bl/salt_pep_noise/signif_diff/frozVGG-Fr_5_bl_not_froz_frozVGGGaus-Fr_5_bl_not_froz\n",
      "./Mc_Nemar_Test_result_presentation/4_to_1_bl/salt_pep_noise/signif_diff/frozVGGGaus-Fb_4bl_to_1bl_frozVGGGaus-Fr_5_bl_not_froz\n",
      "./Mc_Nemar_Test_result_presentation/4_to_1_bl/salt_pep_noise/signif_diff/frozVGG-Fb_4bl_to_1bl_frozVGGGaus-Fr_5_bl_not_froz\n",
      "./Mc_Nemar_Test_result_presentation/4_to_1_bl/salt_pep_noise/signif_diff/frozVGGGaus-Fb_4bl_to_1bl_frozVGG-Fr_5_bl_not_froz\n",
      "./Mc_Nemar_Test_result_presentation/4_to_1_bl/salt_pep_noise/signif_diff/frozVGG-Fb_4bl_to_1bl_frozVGGGaus-Fb_4bl_to_1bl\n",
      "./Mc_Nemar_Test_result_presentation/4_to_1_bl/salt_pep_noise/not_signif_diff\n",
      "./Mc_Nemar_Test_result_presentation/4_to_1_bl/salt_pep_noise/not_signif_diff/frozVGGGaus-Fb_4bl_to_1bl_frozVGGGaus-Fr_5_bl_not_froz\n",
      "./Mc_Nemar_Test_result_presentation/4_to_1_bl/salt_pep_noise/not_signif_diff/frozVGG-Fb_4bl_to_1bl_frozVGG-Fr_5_bl_not_froz\n",
      "./Mc_Nemar_Test_result_presentation/4_to_1_bl/salt_pep_noise/not_signif_diff/frozVGG-Fb_4bl_to_1bl_frozVGG-Fr_5_bl_not_froz/.ipynb_checkpoints\n",
      "./Mc_Nemar_Test_result_presentation/4_to_1_bl/gaus_noise\n",
      "./Mc_Nemar_Test_result_presentation/4_to_1_bl/gaus_noise/signif_diff\n",
      "./Mc_Nemar_Test_result_presentation/4_to_1_bl/gaus_noise/signif_diff/frozVGG-Fb_4bl_to_1bl_frozVGGGaus-Fr_5_bl_not_froz\n",
      "./Mc_Nemar_Test_result_presentation/4_to_1_bl/gaus_noise/signif_diff/frozVGGGaus-Fb_4bl_to_1bl_frozVGG-Fr_5_bl_not_froz\n",
      "./Mc_Nemar_Test_result_presentation/4_to_1_bl/gaus_noise/signif_diff/frozVGG-Fb_4bl_to_1bl_frozVGGGaus-Fb_4bl_to_1bl\n",
      "./Mc_Nemar_Test_result_presentation/4_to_1_bl/gaus_noise/signif_diff/frozVGG-Fb_4bl_to_1bl_frozVGGGaus-Fb_4bl_to_1bl/.ipynb_checkpoints\n",
      "./Mc_Nemar_Test_result_presentation/4_to_1_bl/gaus_noise/not_signif_diff\n",
      "./Mc_Nemar_Test_result_presentation/4_to_1_bl/gaus_noise/not_signif_diff/frozVGGGaus-Fb_4bl_to_1bl_frozVGGGaus-Fr_5_bl_not_froz\n",
      "./Mc_Nemar_Test_result_presentation/4_to_1_bl/gaus_noise/not_signif_diff/frozVGG-Fb_4bl_to_1bl_frozVGG-Fr_5_bl_not_froz\n",
      "./Mc_Nemar_Test_result_presentation/4_to_1_bl/.ipynb_checkpoints\n",
      "./Mc_Nemar_Test\n",
      "./Mc_Nemar_Test/signif_diff\n",
      "./Mc_Nemar_Test/signif_diff/.ipynb_checkpoints\n",
      "./Mc_Nemar_Test/signif_diff/frozVGG-Fb_5bl_to_3bl_frozVGG-Fb_4bl_to_4bl\n",
      "./Mc_Nemar_Test/.ipynb_checkpoints\n"
     ]
    }
   ],
   "source": [
    "for subdir, dirs, files in os.walk(\"./\"):\n",
    "    if \"Mc_Nemar_Test\" in subdir:\n",
    "        new_name = subdir\n",
    "        new_name = new_name.replace(\"Forward\", \"Fr\" )\n",
    "        new_name = new_name.replace(\"block\", \"bl\" )\n",
    "        new_name = new_name.replace(\"VGG16\", \"VGG\" )\n",
    "        new_name = new_name.replace(\"Feedback\", \"Fb\" )\n",
    "        new_name = new_name.replace(\"frozen\", \"froz\" )\n",
    "        new_name = new_name.replace(\"TrainGaussianNoise\", \"Gaussian\" )\n",
    "        new_name = new_name.replace(\"Gaussian\", \"Gaus\" )\n",
    "        new_name = new_name.replace(\"Gaussian\", \"Gaus\" )\n",
    "        new_name = new_name.replace(\"gaussian_noise\", \"gaus_noise\" )\n",
    "        new_name = new_name.replace(\"salt_and_pepper_noise\", \"salt_pep_noise\" )\n",
    "        new_name = new_name.replace(\"original_data\", \"no_noise\" )\n",
    "        print(subdir)\n",
    "        os.rename(subdir, new_name)"
   ]
  },
  {
   "cell_type": "code",
   "execution_count": null,
   "id": "05075ec4-7d4f-4aef-9f2b-a79338a7aff2",
   "metadata": {},
   "outputs": [],
   "source": []
  },
  {
   "cell_type": "code",
   "execution_count": null,
   "id": "049f5929-f3bb-462f-b5ed-c8e220242d41",
   "metadata": {},
   "outputs": [],
   "source": []
  }
 ],
 "metadata": {
  "kernelspec": {
   "display_name": "Python 3 (ipykernel)",
   "language": "python",
   "name": "python3"
  },
  "language_info": {
   "codemirror_mode": {
    "name": "ipython",
    "version": 3
   },
   "file_extension": ".py",
   "mimetype": "text/x-python",
   "name": "python",
   "nbconvert_exporter": "python",
   "pygments_lexer": "ipython3",
   "version": "3.8.6"
  }
 },
 "nbformat": 4,
 "nbformat_minor": 5
}
