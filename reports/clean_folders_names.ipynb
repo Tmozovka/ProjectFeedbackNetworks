{
 "cells": [
  {
   "cell_type": "code",
   "execution_count": 1,
   "id": "617e0a33-fc2a-4fec-89b1-0ccc9f1730c4",
   "metadata": {},
   "outputs": [],
   "source": [
    "import os"
   ]
  },
  {
   "cell_type": "code",
   "execution_count": 7,
   "id": "1eda5019-5aee-4175-a751-e732aa9940ac",
   "metadata": {},
   "outputs": [
    {
     "name": "stdout",
     "output_type": "stream",
     "text": [
      "./Mc_Nemar_Test_result_presentation\n",
      "./Mc_Nemar_Test_result_presentation/4_to_1_block\n",
      "./Mc_Nemar_Test_result_presentation/4_to_1_block/significant_difference\n",
      "./Mc_Nemar_Test_result_presentation/4_to_1_block/significant_difference/frozVGG16-Fb_4block_to_1block_frozVGG16Gaussian-Fr_5_block_not_froz\n",
      "./Mc_Nemar_Test_result_presentation/4_to_1_block/significant_difference/frozVGG16Gaussian-Fb_4block_to_1block_frozVGG16-Fr_5_block_not_froz\n",
      "./Mc_Nemar_Test_result_presentation/4_to_1_block/significant_difference/frozVGG16-Fb_4block_to_1block_frozVGG16Gaussian-Fb_4block_to_1block\n",
      "./Mc_Nemar_Test_result_presentation/4_to_1_block/significant_difference/frozVGG16-Fb_4block_to_1block_frozVGG16Gaussian-Fb_4block_to_1block/.ipynb_checkpoints\n",
      "./Mc_Nemar_Test_result_presentation/4_to_1_block/significant_difference/frozVGG16Gaussian-Fb_4block_to_1block_frozVGG16Gaussian-Fr_5_block_not_froz\n",
      "./Mc_Nemar_Test_result_presentation/4_to_1_block/significant_difference/frozVGG16Gaussian-Fb_4block_to_1block_frozVGG16Gaussian-Fr_5_block_not_froz/.ipynb_checkpoints\n",
      "./Mc_Nemar_Test_result_presentation/4_to_1_block/significant_difference/frozVGG16-Fr_5_block_not_froz_frozVGG16Gaussian-Fr_5_block_not_froz\n",
      "./Mc_Nemar_Test_result_presentation/4_to_1_block/not_significant_difference\n",
      "./Mc_Nemar_Test_result_presentation/4_to_1_block/not_significant_difference/frozVGG16-Fb_4block_to_1block_frozVGG16-Fr_5_block_not_froz\n",
      "./Mc_Nemar_Test_result_presentation/4_to_1_block/not_significant_difference/frozVGG16-Fb_4block_to_1block_frozVGG16-Fr_5_block_not_froz/.ipynb_checkpoints\n",
      "./Mc_Nemar_Test_result_presentation/4_to_1_block/.ipynb_checkpoints\n",
      "./Mc_Nemar_Test_result_presentation/4_to_1_block/salt_and_pepper_noise\n",
      "./Mc_Nemar_Test_result_presentation/4_to_1_block/salt_and_pepper_noise/significant_difference\n",
      "./Mc_Nemar_Test_result_presentation/4_to_1_block/salt_and_pepper_noise/significant_difference/frozVGG16-Fb_4block_to_1block_frozVGG16Gaussian-Fr_5_block_not_froz\n",
      "./Mc_Nemar_Test_result_presentation/4_to_1_block/salt_and_pepper_noise/significant_difference/frozVGG16Gaussian-Fb_4block_to_1block_frozVGG16-Fr_5_block_not_froz\n",
      "./Mc_Nemar_Test_result_presentation/4_to_1_block/salt_and_pepper_noise/significant_difference/frozVGG16-Fb_4block_to_1block_frozVGG16Gaussian-Fb_4block_to_1block\n",
      "./Mc_Nemar_Test_result_presentation/4_to_1_block/salt_and_pepper_noise/significant_difference/frozVGG16Gaussian-Fb_4block_to_1block_frozVGG16Gaussian-Fr_5_block_not_froz\n",
      "./Mc_Nemar_Test_result_presentation/4_to_1_block/salt_and_pepper_noise/significant_difference/frozVGG16-Fr_5_block_not_froz_frozVGG16Gaussian-Fr_5_block_not_froz\n",
      "./Mc_Nemar_Test_result_presentation/4_to_1_block/salt_and_pepper_noise/not_significant_difference\n",
      "./Mc_Nemar_Test_result_presentation/4_to_1_block/salt_and_pepper_noise/not_significant_difference/frozVGG16Gaussian-Fb_4block_to_1block_frozVGG16Gaussian-Fr_5_block_not_froz\n",
      "./Mc_Nemar_Test_result_presentation/4_to_1_block/salt_and_pepper_noise/not_significant_difference/frozVGG16-Fb_4block_to_1block_frozVGG16-Fr_5_block_not_froz\n",
      "./Mc_Nemar_Test_result_presentation/4_to_1_block/salt_and_pepper_noise/not_significant_difference/frozVGG16-Fb_4block_to_1block_frozVGG16-Fr_5_block_not_froz/.ipynb_checkpoints\n",
      "./Mc_Nemar_Test_result_presentation/4_to_1_block/gaussian_noise\n",
      "./Mc_Nemar_Test_result_presentation/4_to_1_block/gaussian_noise/significant_difference\n",
      "./Mc_Nemar_Test_result_presentation/4_to_1_block/gaussian_noise/significant_difference/frozVGG16-Fb_4block_to_1block_frozVGG16Gaussian-Fr_5_block_not_froz\n",
      "./Mc_Nemar_Test_result_presentation/4_to_1_block/gaussian_noise/significant_difference/frozVGG16Gaussian-Fb_4block_to_1block_frozVGG16-Fr_5_block_not_froz\n",
      "./Mc_Nemar_Test_result_presentation/4_to_1_block/gaussian_noise/significant_difference/frozVGG16-Fb_4block_to_1block_frozVGG16Gaussian-Fb_4block_to_1block\n",
      "./Mc_Nemar_Test_result_presentation/4_to_1_block/gaussian_noise/significant_difference/frozVGG16-Fb_4block_to_1block_frozVGG16Gaussian-Fb_4block_to_1block/.ipynb_checkpoints\n",
      "./Mc_Nemar_Test_result_presentation/4_to_1_block/gaussian_noise/not_significant_difference\n",
      "./Mc_Nemar_Test_result_presentation/4_to_1_block/gaussian_noise/not_significant_difference/frozVGG16Gaussian-Fb_4block_to_1block_frozVGG16Gaussian-Fr_5_block_not_froz\n",
      "./Mc_Nemar_Test_result_presentation/4_to_1_block/gaussian_noise/not_significant_difference/frozVGG16-Fb_4block_to_1block_frozVGG16-Fr_5_block_not_froz\n",
      "./Mc_Nemar_Test\n",
      "./Mc_Nemar_Test/significant_difference\n",
      "./Mc_Nemar_Test/significant_difference/frozVGG16-Fb_5bl_to_3bl_frozVGG16-Fb_4bl_to_4bl\n",
      "./Mc_Nemar_Test/significant_difference/.ipynb_checkpoints\n",
      "./Mc_Nemar_Test/.ipynb_checkpoints\n",
      "./Mc_Nemar_Test_diff_num_proj_layers\n",
      "./Mc_Nemar_Test_diff_num_proj_layers/5_to_3_block\n",
      "./Mc_Nemar_Test_diff_num_proj_layers/5_to_3_block/original_data\n",
      "./Mc_Nemar_Test_diff_num_proj_layers/5_to_3_block/original_data/not_significant_difference\n",
      "./Mc_Nemar_Test_diff_num_proj_layers/5_to_3_block/original_data/not_significant_difference/frozVGG16-Fb_4block_to_4block_3_prl_frozVGG16-Fb_4block_to_1block_2_prl\n",
      "./Mc_Nemar_Test_diff_num_proj_layers/5_to_3_block/original_data/not_significant_difference/frozVGG16-Fb_5block_to_3block_frozVGG16-Fb_4block_to_1block_2_prl\n",
      "./Mc_Nemar_Test_diff_num_proj_layers/5_to_3_block/original_data/not_significant_difference/frozVGG16-Fb_5block_to_3block_frozVGG16-Fb_4block_to_4block_3_prl\n",
      "./Mc_Nemar_Test_diff_num_proj_layers/5_to_3_block/original_data/not_significant_difference/.ipynb_checkpoints\n",
      "./Mc_Nemar_Test_diff_num_proj_layers/5_to_3_block/not_significant_difference\n",
      "./Mc_Nemar_Test_diff_num_proj_layers/5_to_3_block/not_significant_difference/frozVGG16-Fb_4bl_to_4bl_3_prl_frozVGG16-Fb_4bl_to_1bl_2_prl\n",
      "./Mc_Nemar_Test_diff_num_proj_layers/5_to_3_block/not_significant_difference/frozVGG16-Fb_4bl_to_4bl_3_prl_frozVGG16-Fb_4bl_to_1bl_2_prl/.ipynb_checkpoints\n",
      "./Mc_Nemar_Test_diff_num_proj_layers/5_to_3_block/not_significant_difference/frozVGG16-Fb_5block_to_3block_frozVGG16-Fb_4block_to_1block_2_prl\n",
      "./Mc_Nemar_Test_diff_num_proj_layers/5_to_3_block/not_significant_difference/frozVGG16-Fb_5block_to_3block_frozVGG16-Fb_4block_to_1block_2_prl/.ipynb_checkpoints\n",
      "./Mc_Nemar_Test_diff_num_proj_layers/5_to_3_block/not_significant_difference/frozVGG16-Fb_5block_to_3block_frozVGG16-Fb_4block_to_4block_3_prl\n",
      "./Mc_Nemar_Test_diff_num_proj_layers/5_to_3_block/not_significant_difference/frozVGG16-Fb_5block_to_3block_frozVGG16-Fb_4block_to_4block_3_prl/.ipynb_checkpoints\n",
      "./Mc_Nemar_Test_diff_num_proj_layers/5_to_3_block/not_significant_difference/.ipynb_checkpoints\n",
      "./Mc_Nemar_Test_diff_num_proj_layers/5_to_3_block/.ipynb_checkpoints\n",
      "./Mc_Nemar_Test_diff_num_proj_layers/5_to_3_block/salt_and_pepper_noise\n",
      "./Mc_Nemar_Test_diff_num_proj_layers/5_to_3_block/salt_and_pepper_noise/significant_difference\n",
      "./Mc_Nemar_Test_diff_num_proj_layers/5_to_3_block/salt_and_pepper_noise/significant_difference/frozVGG16-Fb_5block_to_3block_frozVGG16-Fb_4block_to_1block_2_prl\n",
      "./Mc_Nemar_Test_diff_num_proj_layers/5_to_3_block/salt_and_pepper_noise/significant_difference/frozVGG16-Fb_5block_to_3block_frozVGG16-Fb_4block_to_4block_3_prl\n",
      "./Mc_Nemar_Test_diff_num_proj_layers/5_to_3_block/salt_and_pepper_noise/not_significant_difference\n",
      "./Mc_Nemar_Test_diff_num_proj_layers/5_to_3_block/salt_and_pepper_noise/not_significant_difference/frozVGG16-Fb_4bl_to_4bl_3_prl_frozVGG16-Fb_4bl_to_1bl_2_prl\n",
      "./Mc_Nemar_Test_diff_num_proj_layers/5_to_3_block/salt_and_pepper_noise/not_significant_difference/.ipynb_checkpoints\n",
      "./Mc_Nemar_Test_diff_num_proj_layers/5_to_3_block/salt_and_pepper_noise/.ipynb_checkpoints\n",
      "./Mc_Nemar_Test_diff_num_proj_layers/5_to_3_block/gaussian_noise\n",
      "./Mc_Nemar_Test_diff_num_proj_layers/5_to_3_block/gaussian_noise/significant_difference\n",
      "./Mc_Nemar_Test_diff_num_proj_layers/5_to_3_block/gaussian_noise/significant_difference/frozVGG16-Fb_4bl_to_4bl_3_prl_frozVGG16-Fb_4bl_to_1bl_2_prl\n",
      "./Mc_Nemar_Test_diff_num_proj_layers/5_to_3_block/gaussian_noise/significant_difference/frozVGG16-Fb_5block_to_3block_frozVGG16-Fb_4block_to_1block_2_prl\n",
      "./Mc_Nemar_Test_diff_num_proj_layers/5_to_3_block/gaussian_noise/significant_difference/frozVGG16-Fb_5block_to_3block_frozVGG16-Fb_4block_to_4block_3_prl\n",
      "./Mc_Nemar_Test_diff_num_proj_layers/5_to_3_block/gaussian_noise/significant_difference/.ipynb_checkpoints\n",
      "./Mc_Nemar_Test_diff_num_proj_layers/5_to_3_block/gaussian_noise/.ipynb_checkpoints\n"
     ]
    }
   ],
   "source": [
    "for subdir, dirs, files in os.walk(\"./\"):\n",
    "    if \"Mc_Nemar_Test\" in subdir:\n",
    "        new_name = subdir\n",
    "        new_name = new_name.replace(\"Forward\", \"Fr\" )\n",
    "        new_name = new_name.replace(\"Feedback\", \"Fb\" )\n",
    "        new_name = new_name.replace(\"frozen\", \"froz\" )\n",
    "        new_name = new_name.replace(\"TrainGaussianNoise\", \"Gaussian\" )\n",
    "        new_name = new_name.replace(\"projection_layers\", \"prl\" )\n",
    "        print(subdir)\n",
    "        #os.rename(subdir, new_name)"
   ]
  },
  {
   "cell_type": "code",
   "execution_count": null,
   "id": "05075ec4-7d4f-4aef-9f2b-a79338a7aff2",
   "metadata": {},
   "outputs": [],
   "source": []
  },
  {
   "cell_type": "code",
   "execution_count": null,
   "id": "049f5929-f3bb-462f-b5ed-c8e220242d41",
   "metadata": {},
   "outputs": [],
   "source": []
  }
 ],
 "metadata": {
  "kernelspec": {
   "display_name": "Python 3 (ipykernel)",
   "language": "python",
   "name": "python3"
  },
  "language_info": {
   "codemirror_mode": {
    "name": "ipython",
    "version": 3
   },
   "file_extension": ".py",
   "mimetype": "text/x-python",
   "name": "python",
   "nbconvert_exporter": "python",
   "pygments_lexer": "ipython3",
   "version": "3.8.6"
  }
 },
 "nbformat": 4,
 "nbformat_minor": 5
}
