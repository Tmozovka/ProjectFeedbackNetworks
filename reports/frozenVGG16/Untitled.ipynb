{
 "cells": [
  {
   "cell_type": "code",
   "execution_count": null,
   "id": "a5f88102-a6ce-49db-a7f7-a4d3c180faf7",
   "metadata": {},
   "outputs": [],
   "source": []
  },
  {
   "cell_type": "code",
   "execution_count": 1,
   "id": "ba461c40-27d3-4ba9-ae06-7136bb020ffa",
   "metadata": {},
   "outputs": [],
   "source": [
    "import sys\n",
    "import json\n",
    "sys.path.append('../../../')\n",
    "from src.Evaluation import plot_model_history"
   ]
  },
  {
   "cell_type": "code",
   "execution_count": 2,
   "id": "57ae241f-daa7-45a5-90e0-a4694ec1ca78",
   "metadata": {},
   "outputs": [],
   "source": [
    "history_path = \"history.json\"\n",
    "history_dict = json.load(open(history_path, 'r'))"
   ]
  },
  {
   "cell_type": "code",
   "execution_count": 3,
   "id": "c20b5872-9969-4cf9-a996-eed968fff438",
   "metadata": {},
   "outputs": [
    {
     "data": {
      "text/plain": [
       "40"
      ]
     },
     "execution_count": 3,
     "metadata": {},
     "output_type": "execute_result"
    }
   ],
   "source": [
    "len(history_dict['loss'])"
   ]
  },
  {
   "cell_type": "code",
   "execution_count": 4,
   "id": "b4baf383-ad69-4935-8228-5e7b0d4204d0",
   "metadata": {},
   "outputs": [],
   "source": [
    "plot_model_history(history_dict, path_to_persist=\"train_history.png\")"
   ]
  },
  {
   "cell_type": "code",
   "execution_count": null,
   "id": "a0e328c2-ed35-4ece-9c79-c68edc33bc49",
   "metadata": {},
   "outputs": [],
   "source": []
  }
 ],
 "metadata": {
  "kernelspec": {
   "display_name": "Python (tfds2)",
   "language": "python",
   "name": "tfds2"
  },
  "language_info": {
   "codemirror_mode": {
    "name": "ipython",
    "version": 3
   },
   "file_extension": ".py",
   "mimetype": "text/x-python",
   "name": "python",
   "nbconvert_exporter": "python",
   "pygments_lexer": "ipython3",
   "version": "3.8.6"
  }
 },
 "nbformat": 4,
 "nbformat_minor": 5
}
