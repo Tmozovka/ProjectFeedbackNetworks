{
 "cells": [
  {
   "cell_type": "code",
   "execution_count": null,
   "id": "f75a38e2-330c-41ca-89a9-c5e30d35666f",
   "metadata": {},
   "outputs": [],
   "source": []
  },
  {
   "cell_type": "code",
   "execution_count": 1,
   "id": "294abb3d-fc66-46de-a3e6-939a59654739",
   "metadata": {},
   "outputs": [
    {
     "name": "stderr",
     "output_type": "stream",
     "text": [
      "2023-02-02 22:13:16.199728: I tensorflow/core/platform/cpu_feature_guard.cc:193] This TensorFlow binary is optimized with oneAPI Deep Neural Network Library (oneDNN) to use the following CPU instructions in performance-critical operations:  AVX2 AVX512F AVX512_VNNI FMA\n",
      "To enable them in other operations, rebuild TensorFlow with the appropriate compiler flags.\n",
      "2023-02-02 22:13:23.259071: I tensorflow/core/util/port.cc:104] oneDNN custom operations are on. You may see slightly different numerical results due to floating-point round-off errors from different computation orders. To turn them off, set the environment variable `TF_ENABLE_ONEDNN_OPTS=0`.\n",
      "2023-02-02 22:13:40.742851: W tensorflow/compiler/xla/stream_executor/platform/default/dso_loader.cc:64] Could not load dynamic library 'libnvinfer.so.7'; dlerror: libnvinfer.so.7: cannot open shared object file: No such file or directory; LD_LIBRARY_PATH: /opt/bwhpc/common/devel/cuda/11.8/lib64\n",
      "2023-02-02 22:13:40.755332: W tensorflow/compiler/xla/stream_executor/platform/default/dso_loader.cc:64] Could not load dynamic library 'libnvinfer_plugin.so.7'; dlerror: libnvinfer_plugin.so.7: cannot open shared object file: No such file or directory; LD_LIBRARY_PATH: /opt/bwhpc/common/devel/cuda/11.8/lib64\n",
      "2023-02-02 22:13:40.755361: W tensorflow/compiler/tf2tensorrt/utils/py_utils.cc:38] TF-TRT Warning: Cannot dlopen some TensorRT libraries. If you would like to use Nvidia GPU with TensorRT, please make sure the missing libraries mentioned above are installed properly.\n"
     ]
    }
   ],
   "source": [
    "import sys\n",
    "sys.path.append('../')\n",
    "from src.models.FeedbackModelBuilder import VGG16FeedbackFrozen4BlockTo4Block,\\\n",
    "                                            VGG16FeedbackFrozen5BlockTo5Block,\\\n",
    "                                            VGG16FeedbackFrozen4BlockTo1Block,\\\n",
    "                                            VGG16FeedbackFrozen5BlockTo3Block,\\\n",
    "                                            VGG16FeedbackFrozen5BlockTo4Block\n",
    "\n",
    "from src.models.ForwardModelBuilder import VGG16CustomFrozen\n",
    "from src.Evaluation import run_mcnemar_test\n",
    "from src.DatasetNoise import tf_gaussian_noise, tf_salt_pepper_noise\n",
    "import tensorflow as tf\n",
    "import itertools\n",
    "import os"
   ]
  },
  {
   "cell_type": "code",
   "execution_count": 2,
   "id": "365d8f12-fdc6-43ac-8325-6da6c6b65ef7",
   "metadata": {},
   "outputs": [
    {
     "name": "stderr",
     "output_type": "stream",
     "text": [
      "2023-02-02 22:14:16.851433: W tensorflow/compiler/xla/stream_executor/platform/default/dso_loader.cc:64] Could not load dynamic library 'libcuda.so.1'; dlerror: libcuda.so.1: cannot open shared object file: No such file or directory; LD_LIBRARY_PATH: /opt/bwhpc/common/devel/cuda/11.8/lib64\n",
      "2023-02-02 22:14:16.851483: W tensorflow/compiler/xla/stream_executor/cuda/cuda_driver.cc:265] failed call to cuInit: UNKNOWN ERROR (303)\n",
      "2023-02-02 22:14:16.851510: I tensorflow/compiler/xla/stream_executor/cuda/cuda_diagnostics.cc:156] kernel driver does not appear to be running on this host (uc2n368.localdomain): /proc/driver/nvidia/version does not exist\n",
      "2023-02-02 22:14:16.905963: I tensorflow/core/platform/cpu_feature_guard.cc:193] This TensorFlow binary is optimized with oneAPI Deep Neural Network Library (oneDNN) to use the following CPU instructions in performance-critical operations:  AVX2 AVX512F AVX512_VNNI FMA\n",
      "To enable them in other operations, rebuild TensorFlow with the appropriate compiler flags.\n"
     ]
    }
   ],
   "source": [
    "path_to_datasets = '../../../experiments/create_datasets/normalize_dataset/saved_datasets/'\n",
    "test_ds_prepared_without_batch = tf.data.Dataset.load(os.path.join(path_to_datasets, \"test_ds_without_batching\"))"
   ]
  },
  {
   "cell_type": "code",
   "execution_count": 3,
   "id": "7762b053-0daf-436f-9fcb-cb4e5c8f14f3",
   "metadata": {},
   "outputs": [],
   "source": [
    "batch_size = 16\n",
    "num_classes = 16\n",
    "img_size = 224\n",
    "input_shape = (None, img_size, img_size, 3)\n",
    "test_ds = test_ds_prepared_without_batch.batch(batch_size).prefetch(4)\n",
    "test_ds_gaussian_noise = test_ds_prepared_without_batch.map(tf_gaussian_noise).batch(batch_size).prefetch(4)\n",
    "test_ds_salt_pepper_noise = test_ds_prepared_without_batch.map(tf_salt_pepper_noise).batch(batch_size).prefetch(4)"
   ]
  },
  {
   "cell_type": "code",
   "execution_count": null,
   "id": "fa81d557-1eba-4653-b490-8cadb1921bbd",
   "metadata": {},
   "outputs": [],
   "source": []
  },
  {
   "cell_type": "code",
   "execution_count": 4,
   "id": "d3079931-fb78-4719-961a-cdeb13575556",
   "metadata": {},
   "outputs": [],
   "source": [
    "name_model_path = {\n",
    "\"frozenVGG16-Feedback_5block_to_3block\": {\n",
    "    \"model_class\": VGG16FeedbackFrozen5BlockTo3Block,\n",
    "    \"checkpoint_filepath\":\"../models/frozenVGG16/Feedback_5block_to_3block/checkpoint\"\n",
    "                                         },\n",
    "\"frozenVGG16-Feedback_4block_to_4block\": {\n",
    "    \"model_class\": VGG16FeedbackFrozen4BlockTo4Block,\n",
    "    \"checkpoint_filepath\":\"../models/frozenVGG16/Feedback_4block_to_4block/checkpoint\"\n",
    "                                         },\n",
    "\"frozenVGG16-Feedback_4block_to_1block\": {\n",
    "    \"model_class\": VGG16FeedbackFrozen4BlockTo1Block,\n",
    "    \"checkpoint_filepath\":\"../models/frozenVGG16/Feedback_4block_to_1block/checkpoint\"\n",
    "                                         },\n",
    "\"frozenVGG16-Feedback_5block_to_4block\": {\n",
    "    \"model_class\": VGG16FeedbackFrozen5BlockTo4Block,\n",
    "    \"checkpoint_filepath\":\"../models/frozenVGG16/Feedback_5block_to_4block/checkpoint\"\n",
    "                                         },\n",
    "\"frozenVGG16-Feedback_5block_to_5block\": {\n",
    "    \"model_class\": VGG16FeedbackFrozen5BlockTo5Block,\n",
    "    \"checkpoint_filepath\":\"../models/frozenVGG16/Feedback_5block_to_5block/checkpoint\"\n",
    "                                         },\n",
    "\"frozenVGG16-Forward\": {\n",
    "    \"model_class\": VGG16CustomFrozen,\n",
    "    \"checkpoint_filepath\":\"../models/frozenVGG16/Forward/checkpoint\"\n",
    "                                         }\n",
    "}"
   ]
  },
  {
   "cell_type": "code",
   "execution_count": 5,
   "id": "4ceefda2-6c12-4df9-b517-8896adc6b50a",
   "metadata": {},
   "outputs": [],
   "source": [
    "def build_model(model_class, model_checkpoint_filepath):\n",
    "    sample = next(iter(test_ds))[0]\n",
    "    model = model_class()\n",
    "    model.build(input_shape)\n",
    "    model(sample)\n",
    "    model.summary(show_trainable=True)\n",
    "    model.load_weights(model_checkpoint_filepath)\n",
    "    return model"
   ]
  },
  {
   "cell_type": "code",
   "execution_count": null,
   "id": "2c51cf84-5bac-47b4-882a-e9d69ffcd0a8",
   "metadata": {},
   "outputs": [
    {
     "name": "stdout",
     "output_type": "stream",
     "text": [
      "('frozenVGG16-Feedback_5block_to_3block', {'model_class': <class 'src.models.FeedbackModelBuilder.VGG16FeedbackFrozen5BlockTo3Block'>, 'checkpoint_filepath': '../models/frozenVGG16/Feedback_5block_to_3block/checkpoint'})\n",
      "('frozenVGG16-Feedback_4block_to_4block', {'model_class': <class 'src.models.FeedbackModelBuilder.VGG16FeedbackFrozen4BlockTo4Block'>, 'checkpoint_filepath': '../models/frozenVGG16/Feedback_4block_to_4block/checkpoint'})\n",
      "Model: \"FFmodel\"\n",
      "____________________________________________________________________________\n",
      " Layer (type)                Output Shape              Param #   Trainable  \n",
      "============================================================================\n",
      " model (Functional)          (None, None, None, 128)   260160    N          \n",
      "                                                                            \n",
      " conv2d (Conv2D)             multiple                  295168    Y          \n",
      "                                                                            \n",
      " conv2d_1 (Conv2D)           multiple                  590080    Y          \n",
      "                                                                            \n",
      " conv2d_2 (Conv2D)           multiple                  0 (unuse  Y          \n",
      "                                                       d)                   \n",
      "                                                                            \n",
      " max_pooling2d (MaxPooling2D  multiple                 0         Y          \n",
      " )                                                                          \n",
      "                                                                            \n",
      " conv2d_3 (Conv2D)           multiple                  1180160   Y          \n",
      "                                                                            \n",
      " conv2d_4 (Conv2D)           multiple                  2359808   Y          \n",
      "                                                                            \n",
      " conv2d_5 (Conv2D)           multiple                  0 (unuse  Y          \n",
      "                                                       d)                   \n",
      "                                                                            \n",
      " max_pooling2d_1 (MaxPooling  multiple                 0         Y          \n",
      " 2D)                                                                        \n",
      "                                                                            \n",
      " conv2d_6 (Conv2D)           multiple                  2359808   Y          \n",
      "                                                                            \n",
      " conv2d_7 (Conv2D)           multiple                  2359808   Y          \n",
      "                                                                            \n",
      " conv2d_8 (Conv2D)           multiple                  0 (unuse  Y          \n",
      "                                                       d)                   \n",
      "                                                                            \n",
      " max_pooling2d_2 (MaxPooling  multiple                 0         Y          \n",
      " 2D)                                                                        \n",
      "                                                                            \n",
      " up_sampling3d (UpSampling3D  multiple                 0         Y          \n",
      " )                                                                          \n",
      "                                                                            \n",
      " flatten (Flatten)           multiple                  0         Y          \n",
      "                                                                            \n",
      " dense (Dense)               multiple                  6422784   Y          \n",
      "                                                                            \n",
      " dropout (Dropout)           multiple                  0         Y          \n",
      "                                                                            \n",
      " dense_1 (Dense)             multiple                  4112      Y          \n",
      "                                                                            \n",
      " conv2d_9 (Conv2D)           multiple                  2359424   Y          \n",
      "                                                                            \n",
      "============================================================================\n",
      "Total params: 18,191,312\n",
      "Trainable params: 17,931,152\n",
      "Non-trainable params: 260,160\n",
      "____________________________________________________________________________\n",
      "Model: \"FFmodel\"\n",
      "____________________________________________________________________________\n",
      " Layer (type)                Output Shape              Param #   Trainable  \n",
      "============================================================================\n",
      " model_1 (Functional)        (None, None, None, 256)   1735488   N          \n",
      "                                                                            \n",
      " conv2d_10 (Conv2D)          multiple                  1180160   Y          \n",
      "                                                                            \n",
      " conv2d_11 (Conv2D)          multiple                  2359808   Y          \n",
      "                                                                            \n",
      " conv2d_12 (Conv2D)          multiple                  2359808   Y          \n",
      "                                                                            \n",
      " max_pooling2d_3 (MaxPooling  multiple                 0         Y          \n",
      " 2D)                                                                        \n",
      "                                                                            \n",
      " conv2d_13 (Conv2D)          multiple                  2359808   Y          \n",
      "                                                                            \n",
      " conv2d_14 (Conv2D)          multiple                  0 (unuse  Y          \n",
      "                                                       d)                   \n",
      "                                                                            \n",
      " conv2d_15 (Conv2D)          multiple                  2359808   Y          \n",
      "                                                                            \n",
      " max_pooling2d_4 (MaxPooling  multiple                 0         Y          \n",
      " 2D)                                                                        \n",
      "                                                                            \n",
      " flatten_1 (Flatten)         multiple                  0         Y          \n",
      "                                                                            \n",
      " dense_2 (Dense)             multiple                  6422784   Y          \n",
      "                                                                            \n",
      " dropout_1 (Dropout)         multiple                  0         Y          \n",
      "                                                                            \n",
      " dense_3 (Dense)             multiple                  4112      Y          \n",
      "                                                                            \n",
      " conv2d_16 (Conv2D)          multiple                  1179904   Y          \n",
      "                                                                            \n",
      "============================================================================\n",
      "Total params: 19,961,680\n",
      "Trainable params: 18,226,192\n",
      "Non-trainable params: 1,735,488\n",
      "____________________________________________________________________________\n"
     ]
    }
   ],
   "source": [
    "for model_1, model_2 in itertools.combinations([(k,v) for k,v in name_model_path.items()], 2):\n",
    "    print(model_1)\n",
    "    print(model_2)\n",
    "    model_1_class = model_1[1][\"model_class\"]\n",
    "    model_1_checkpoint_filepath = model_1[1][\"checkpoint_filepath\"]\n",
    "    model_1_name = model_1[0]\n",
    "    \n",
    "    model_2_class = model_2[1][\"model_class\"]\n",
    "    model_2_checkpoint_filepath = model_2[1][\"checkpoint_filepath\"]\n",
    "    model_2_name = model_2[0]\n",
    "    \n",
    "    model_1 = build_model(model_1_class, model_1_checkpoint_filepath)\n",
    "    model_2 = build_model(model_2_class, model_2_checkpoint_filepath)\n",
    "    \n",
    "    print(run_mcnemar_test(model_1, model_2, test_ds))\n",
    "    break"
   ]
  },
  {
   "cell_type": "code",
   "execution_count": null,
   "id": "bb0d08fd-8e6a-46df-a622-a17f3e2e28df",
   "metadata": {},
   "outputs": [],
   "source": [
    "sample = next(iter(test_ds))[0]\n",
    "model = model_class()\n",
    "model.build(input_shape)\n",
    "model(sample)\n",
    "model.summary(show_trainable=True)\n",
    "model.load_weights(checkpoint_filepath)"
   ]
  },
  {
   "cell_type": "code",
   "execution_count": null,
   "id": "5830869a-52e2-4bb8-aea9-1cd3598bf370",
   "metadata": {},
   "outputs": [],
   "source": []
  }
 ],
 "metadata": {
  "kernelspec": {
   "display_name": "Python (tfds2)",
   "language": "python",
   "name": "tfds2"
  },
  "language_info": {
   "codemirror_mode": {
    "name": "ipython",
    "version": 3
   },
   "file_extension": ".py",
   "mimetype": "text/x-python",
   "name": "python",
   "nbconvert_exporter": "python",
   "pygments_lexer": "ipython3",
   "version": "3.8.6"
  }
 },
 "nbformat": 4,
 "nbformat_minor": 5
}
