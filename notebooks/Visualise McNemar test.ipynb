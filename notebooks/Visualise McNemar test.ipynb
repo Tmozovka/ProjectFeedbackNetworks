{
 "cells": [
  {
   "cell_type": "code",
   "execution_count": null,
   "id": "f75a38e2-330c-41ca-89a9-c5e30d35666f",
   "metadata": {},
   "outputs": [],
   "source": []
  },
  {
   "cell_type": "code",
   "execution_count": 40,
   "id": "294abb3d-fc66-46de-a3e6-939a59654739",
   "metadata": {},
   "outputs": [],
   "source": [
    "import sys\n",
    "sys.path.append('../')\n",
    "from src.models.FeedbackModelBuilder import VGG16FeedbackFrozen4BlockTo4Block,\\\n",
    "                                            VGG16FeedbackFrozen5BlockTo5Block,\\\n",
    "                                            VGG16FeedbackFrozen4BlockTo1Block,\\\n",
    "                                            VGG16FeedbackFrozen5BlockTo3Block,\\\n",
    "                                            VGG16FeedbackFrozen5BlockTo4Block\n",
    "\n",
    "from src.models.ForwardModelBuilder import VGG16CustomFrozen\n",
    "from src.Evaluation import run_mcnemar_test\n",
    "from src.DatasetNoise import tf_gaussian_noise, tf_salt_pepper_noise\n",
    "import matplotlib.pyplot as plt\n",
    "import tensorflow as tf\n",
    "import itertools\n",
    "import os\n",
    "import pandas as pd"
   ]
  },
  {
   "cell_type": "code",
   "execution_count": 2,
   "id": "365d8f12-fdc6-43ac-8325-6da6c6b65ef7",
   "metadata": {},
   "outputs": [
    {
     "name": "stderr",
     "output_type": "stream",
     "text": [
      "2023-02-02 23:10:29.739776: W tensorflow/compiler/xla/stream_executor/platform/default/dso_loader.cc:64] Could not load dynamic library 'libcuda.so.1'; dlerror: libcuda.so.1: cannot open shared object file: No such file or directory; LD_LIBRARY_PATH: /opt/bwhpc/common/devel/cuda/11.8/lib64\n",
      "2023-02-02 23:10:29.739805: W tensorflow/compiler/xla/stream_executor/cuda/cuda_driver.cc:265] failed call to cuInit: UNKNOWN ERROR (303)\n",
      "2023-02-02 23:10:29.739823: I tensorflow/compiler/xla/stream_executor/cuda/cuda_diagnostics.cc:156] kernel driver does not appear to be running on this host (uc2n368.localdomain): /proc/driver/nvidia/version does not exist\n",
      "2023-02-02 23:10:29.740024: I tensorflow/core/platform/cpu_feature_guard.cc:193] This TensorFlow binary is optimized with oneAPI Deep Neural Network Library (oneDNN) to use the following CPU instructions in performance-critical operations:  AVX2 AVX512F AVX512_VNNI FMA\n",
      "To enable them in other operations, rebuild TensorFlow with the appropriate compiler flags.\n"
     ]
    }
   ],
   "source": [
    "path_to_datasets = '../../../experiments/create_datasets/normalize_dataset/saved_datasets/'\n",
    "test_ds_prepared_without_batch = tf.data.Dataset.load(os.path.join(path_to_datasets, \"test_ds_without_batching\"))"
   ]
  },
  {
   "cell_type": "code",
   "execution_count": 3,
   "id": "7762b053-0daf-436f-9fcb-cb4e5c8f14f3",
   "metadata": {},
   "outputs": [],
   "source": [
    "batch_size = 16\n",
    "num_classes = 16\n",
    "img_size = 224\n",
    "input_shape = (None, img_size, img_size, 3)\n",
    "test_ds = test_ds_prepared_without_batch.batch(batch_size).prefetch(4)\n",
    "test_ds_gaussian_noise = test_ds_prepared_without_batch.map(tf_gaussian_noise).batch(batch_size).prefetch(4)\n",
    "test_ds_salt_pepper_noise = test_ds_prepared_without_batch.map(tf_salt_pepper_noise).batch(batch_size).prefetch(4)"
   ]
  },
  {
   "cell_type": "code",
   "execution_count": null,
   "id": "fa81d557-1eba-4653-b490-8cadb1921bbd",
   "metadata": {},
   "outputs": [],
   "source": []
  },
  {
   "cell_type": "code",
   "execution_count": 4,
   "id": "d3079931-fb78-4719-961a-cdeb13575556",
   "metadata": {},
   "outputs": [],
   "source": [
    "name_model_path = {\n",
    "\"frozenVGG16-Feedback_5block_to_3block\": {\n",
    "    \"model_class\": VGG16FeedbackFrozen5BlockTo3Block,\n",
    "    \"checkpoint_filepath\":\"../models/frozenVGG16/Feedback_5block_to_3block/checkpoint\"\n",
    "                                         },\n",
    "\"frozenVGG16-Feedback_4block_to_4block\": {\n",
    "    \"model_class\": VGG16FeedbackFrozen4BlockTo4Block,\n",
    "    \"checkpoint_filepath\":\"../models/frozenVGG16/Feedback_4block_to_4block/checkpoint\"\n",
    "                                         },\n",
    "\"frozenVGG16-Feedback_4block_to_1block\": {\n",
    "    \"model_class\": VGG16FeedbackFrozen4BlockTo1Block,\n",
    "    \"checkpoint_filepath\":\"../models/frozenVGG16/Feedback_4block_to_1block/checkpoint\"\n",
    "                                         },\n",
    "\"frozenVGG16-Feedback_5block_to_4block\": {\n",
    "    \"model_class\": VGG16FeedbackFrozen5BlockTo4Block,\n",
    "    \"checkpoint_filepath\":\"../models/frozenVGG16/Feedback_5block_to_4block/checkpoint\"\n",
    "                                         },\n",
    "\"frozenVGG16-Feedback_5block_to_5block\": {\n",
    "    \"model_class\": VGG16FeedbackFrozen5BlockTo5Block,\n",
    "    \"checkpoint_filepath\":\"../models/frozenVGG16/Feedback_5block_to_5block/checkpoint\"\n",
    "                                         },\n",
    "\"frozenVGG16-Forward\": {\n",
    "    \"model_class\": VGG16CustomFrozen,\n",
    "    \"checkpoint_filepath\":\"../models/frozenVGG16/Forward/checkpoint\"\n",
    "                                         }\n",
    "}"
   ]
  },
  {
   "cell_type": "code",
   "execution_count": 5,
   "id": "4ceefda2-6c12-4df9-b517-8896adc6b50a",
   "metadata": {},
   "outputs": [],
   "source": [
    "def build_model(model_class, model_checkpoint_filepath):\n",
    "    sample = next(iter(test_ds))[0]\n",
    "    model = model_class()\n",
    "    model.build(input_shape)\n",
    "    model(sample)\n",
    "    model.summary(show_trainable=True)\n",
    "    model.load_weights(model_checkpoint_filepath)\n",
    "    return model"
   ]
  },
  {
   "cell_type": "code",
   "execution_count": null,
   "id": "bf051901-ae75-4b18-a606-36f018216c65",
   "metadata": {},
   "outputs": [],
   "source": [
    "for model_1, model_2 in itertools.combinations([(k,v) for k,v in name_model_path.items()], 2):\n",
    "    print(model_1)\n",
    "    print(model_2)\n",
    "    model_1_class = model_1[1][\"model_class\"]\n",
    "    model_1_checkpoint_filepath = model_1[1][\"checkpoint_filepath\"]\n",
    "    model_1_name = model_1[0]\n",
    "    \n",
    "    model_2_class = model_2[1][\"model_class\"]\n",
    "    model_2_checkpoint_filepath = model_2[1][\"checkpoint_filepath\"]\n",
    "    model_2_name = model_2[0]\n",
    "    \n",
    "    model_1 = build_model(model_1_class, model_1_checkpoint_filepath)\n",
    "    model_2 = build_model(model_2_class, model_2_checkpoint_filepath)\n",
    "    \n",
    "    print(run_mcnemar_test(model_1, model_2, test_ds))\n",
    "    break"
   ]
  },
  {
   "cell_type": "code",
   "execution_count": 43,
   "id": "bb0d08fd-8e6a-46df-a622-a17f3e2e28df",
   "metadata": {},
   "outputs": [],
   "source": [
    "result = {'statistics': 121.0, 'p-value': 6.57342811910124e-31, 'evaluation_result': 'Different proportions of errors (reject H0)', 'contingency_table': [[2601, 121], [373, 384]], 'model_1_name': 'frozenVGG16-Feedback_5block_to_3block', 'model_2_name': 'frozenVGG16-Feedback_4block_to_4block'}"
   ]
  },
  {
   "cell_type": "code",
   "execution_count": 44,
   "id": "5830869a-52e2-4bb8-aea9-1cd3598bf370",
   "metadata": {},
   "outputs": [
    {
     "data": {
      "text/plain": [
       "{'statistics': 121.0,\n",
       " 'p-value': 6.57342811910124e-31,\n",
       " 'evaluation_result': 'Different proportions of errors (reject H0)',\n",
       " 'contingency_table': [[2601, 121], [373, 384]],\n",
       " 'model_1_name': 'frozenVGG16-Feedback_5block_to_3block',\n",
       " 'model_2_name': 'frozenVGG16-Feedback_4block_to_4block'}"
      ]
     },
     "execution_count": 44,
     "metadata": {},
     "output_type": "execute_result"
    }
   ],
   "source": [
    "result"
   ]
  },
  {
   "cell_type": "code",
   "execution_count": 45,
   "id": "6186b260-f576-404f-8734-c80f984c06de",
   "metadata": {},
   "outputs": [],
   "source": [
    "import seaborn as sns"
   ]
  },
  {
   "cell_type": "code",
   "execution_count": null,
   "id": "a96c5dae-3977-4fe8-851c-f0b0e0c9d0ba",
   "metadata": {},
   "outputs": [],
   "source": []
  },
  {
   "cell_type": "code",
   "execution_count": null,
   "id": "ff6e5f7b-23b7-467c-9633-34bd5ae34621",
   "metadata": {},
   "outputs": [],
   "source": []
  },
  {
   "cell_type": "code",
   "execution_count": 46,
   "id": "826a39f5-9503-4297-93e9-df1a8d76d84a",
   "metadata": {},
   "outputs": [
    {
     "data": {
      "text/html": [
       "<div>\n",
       "<style scoped>\n",
       "    .dataframe tbody tr th:only-of-type {\n",
       "        vertical-align: middle;\n",
       "    }\n",
       "\n",
       "    .dataframe tbody tr th {\n",
       "        vertical-align: top;\n",
       "    }\n",
       "\n",
       "    .dataframe thead th {\n",
       "        text-align: right;\n",
       "    }\n",
       "</style>\n",
       "<table border=\"1\" class=\"dataframe\">\n",
       "  <thead>\n",
       "    <tr style=\"text-align: right;\">\n",
       "      <th></th>\n",
       "      <th>Model 2 correct</th>\n",
       "      <th>Model 2 incorrect</th>\n",
       "    </tr>\n",
       "  </thead>\n",
       "  <tbody>\n",
       "    <tr>\n",
       "      <th>Model 1 correct</th>\n",
       "      <td>2601</td>\n",
       "      <td>121</td>\n",
       "    </tr>\n",
       "    <tr>\n",
       "      <th>Model 1 incorrect</th>\n",
       "      <td>373</td>\n",
       "      <td>384</td>\n",
       "    </tr>\n",
       "  </tbody>\n",
       "</table>\n",
       "</div>"
      ],
      "text/plain": [
       "                   Model 2 correct  Model 2 incorrect\n",
       "Model 1 correct               2601                121\n",
       "Model 1 incorrect              373                384"
      ]
     },
     "execution_count": 46,
     "metadata": {},
     "output_type": "execute_result"
    }
   ],
   "source": [
    "df"
   ]
  },
  {
   "cell_type": "code",
   "execution_count": 47,
   "id": "15d10477-e8aa-47b7-b2d1-59eee2b5d301",
   "metadata": {},
   "outputs": [],
   "source": [
    "# , columns=['Model 2 correct', 'Model 2 incorrect'], rows=['Model 1 correct', 'Model 1 incorrect']"
   ]
  },
  {
   "cell_type": "code",
   "execution_count": 48,
   "id": "255b75c6-d6a0-40f8-9bc2-59419f61a35b",
   "metadata": {},
   "outputs": [],
   "source": [
    "model_1_name = \"frozenVGG16-Feedback_5block_to_3block\"\n",
    "model_2_name = \"frozenVGG16-Feedback_4block_to_4block\""
   ]
  },
  {
   "cell_type": "code",
   "execution_count": 49,
   "id": "0ca1cd84-c4d8-410b-adda-099637cd5b9a",
   "metadata": {},
   "outputs": [
    {
     "data": {
      "image/png": "[encoded data removed]",
      "text/plain": [
       "<Figure size 640x480 with 2 Axes>"
      ]
     },
     "metadata": {},
     "output_type": "display_data"
    }
   ],
   "source": [
    "ds_len = len(test_ds_prepared_without_batch)\n",
    "df = pd.DataFrame(result['contingency_table'],\\\n",
    "                  columns=['Model 2 correct', 'Model 2 incorrect'],\\\n",
    "                  index=['Model 1 correct', 'Model 1 incorrect'])\n",
    "ax = sns.heatmap(df, annot=True, fmt=\".0f\", vmin=0, vmax=ds_len)\n",
    "ax.set(xlabel=\"\", ylabel=\"\", title=f\"McNemar test between:\\n Model 1: {model_1_name} \\n Model 2: {model_2_name} \\n Result: {result['evaluation_result']}\\n\")\n",
    "ax.xaxis.tick_top()\n",
    "ax.figure.set_tight_layout(True)\n",
    "plt.savefig('test mc nemar visualisation.png')"
   ]
  },
  {
   "cell_type": "code",
   "execution_count": 50,
   "id": "27037a2d-4a49-4023-9e3b-a331875c357a",
   "metadata": {},
   "outputs": [
    {
     "name": "stderr",
     "output_type": "stream",
     "text": [
      "/scratch/slurm_tmpdir/job_21722285/ipykernel_662043/2862412127.py:1: FutureWarning: In a future version of pandas all arguments of DataFrame.pivot will be keyword-only.\n",
      "  glue = sns.load_dataset(\"glue\").pivot(\"Model\", \"Task\", \"Score\")\n"
     ]
    },
    {
     "data": {
      "text/plain": [
       "<AxesSubplot: xlabel='Task', ylabel='Model'>"
      ]
     },
     "execution_count": 50,
     "metadata": {},
     "output_type": "execute_result"
    },
    {
     "data": {
      "image/png": "[encoded data removed]",
      "text/plain": [
       "<Figure size 640x480 with 2 Axes>"
      ]
     },
     "metadata": {},
     "output_type": "display_data"
    }
   ],
   "source": [
    "glue = sns.load_dataset(\"glue\").pivot(\"Model\", \"Task\", \"Score\")\n",
    "sns.heatmap(glue)"
   ]
  },
  {
   "cell_type": "code",
   "execution_count": 51,
   "id": "5ce7d7f5-3009-4517-aeb0-a05e1dd990b0",
   "metadata": {},
   "outputs": [
    {
     "data": {
      "text/html": [
       "<div>\n",
       "<style scoped>\n",
       "    .dataframe tbody tr th:only-of-type {\n",
       "        vertical-align: middle;\n",
       "    }\n",
       "\n",
       "    .dataframe tbody tr th {\n",
       "        vertical-align: top;\n",
       "    }\n",
       "\n",
       "    .dataframe thead th {\n",
       "        text-align: right;\n",
       "    }\n",
       "</style>\n",
       "<table border=\"1\" class=\"dataframe\">\n",
       "  <thead>\n",
       "    <tr style=\"text-align: right;\">\n",
       "      <th>Task</th>\n",
       "      <th>CoLA</th>\n",
       "      <th>MNLI</th>\n",
       "      <th>MRPC</th>\n",
       "      <th>QNLI</th>\n",
       "      <th>QQP</th>\n",
       "      <th>RTE</th>\n",
       "      <th>SST-2</th>\n",
       "      <th>STS-B</th>\n",
       "    </tr>\n",
       "    <tr>\n",
       "      <th>Model</th>\n",
       "      <th></th>\n",
       "      <th></th>\n",
       "      <th></th>\n",
       "      <th></th>\n",
       "      <th></th>\n",
       "      <th></th>\n",
       "      <th></th>\n",
       "      <th></th>\n",
       "    </tr>\n",
       "  </thead>\n",
       "  <tbody>\n",
       "    <tr>\n",
       "      <th>BERT</th>\n",
       "      <td>60.5</td>\n",
       "      <td>86.7</td>\n",
       "      <td>89.3</td>\n",
       "      <td>92.7</td>\n",
       "      <td>72.1</td>\n",
       "      <td>70.1</td>\n",
       "      <td>94.9</td>\n",
       "      <td>87.6</td>\n",
       "    </tr>\n",
       "    <tr>\n",
       "      <th>BiLSTM</th>\n",
       "      <td>11.6</td>\n",
       "      <td>65.6</td>\n",
       "      <td>81.8</td>\n",
       "      <td>74.6</td>\n",
       "      <td>62.5</td>\n",
       "      <td>57.4</td>\n",
       "      <td>82.8</td>\n",
       "      <td>70.3</td>\n",
       "    </tr>\n",
       "    <tr>\n",
       "      <th>BiLSTM+Attn</th>\n",
       "      <td>18.6</td>\n",
       "      <td>67.6</td>\n",
       "      <td>83.9</td>\n",
       "      <td>74.3</td>\n",
       "      <td>60.1</td>\n",
       "      <td>58.4</td>\n",
       "      <td>83.0</td>\n",
       "      <td>72.8</td>\n",
       "    </tr>\n",
       "    <tr>\n",
       "      <th>BiLSTM+CoVe</th>\n",
       "      <td>18.5</td>\n",
       "      <td>65.4</td>\n",
       "      <td>78.7</td>\n",
       "      <td>70.8</td>\n",
       "      <td>60.6</td>\n",
       "      <td>52.7</td>\n",
       "      <td>81.9</td>\n",
       "      <td>64.4</td>\n",
       "    </tr>\n",
       "    <tr>\n",
       "      <th>BiLSTM+ELMo</th>\n",
       "      <td>32.1</td>\n",
       "      <td>67.2</td>\n",
       "      <td>84.7</td>\n",
       "      <td>75.5</td>\n",
       "      <td>61.1</td>\n",
       "      <td>57.4</td>\n",
       "      <td>89.3</td>\n",
       "      <td>70.3</td>\n",
       "    </tr>\n",
       "    <tr>\n",
       "      <th>ERNIE</th>\n",
       "      <td>75.5</td>\n",
       "      <td>92.3</td>\n",
       "      <td>93.9</td>\n",
       "      <td>97.3</td>\n",
       "      <td>75.2</td>\n",
       "      <td>92.6</td>\n",
       "      <td>97.8</td>\n",
       "      <td>93.0</td>\n",
       "    </tr>\n",
       "    <tr>\n",
       "      <th>RoBERTa</th>\n",
       "      <td>67.8</td>\n",
       "      <td>90.8</td>\n",
       "      <td>92.3</td>\n",
       "      <td>95.4</td>\n",
       "      <td>74.3</td>\n",
       "      <td>88.2</td>\n",
       "      <td>96.7</td>\n",
       "      <td>92.2</td>\n",
       "    </tr>\n",
       "    <tr>\n",
       "      <th>T5</th>\n",
       "      <td>71.6</td>\n",
       "      <td>92.2</td>\n",
       "      <td>92.8</td>\n",
       "      <td>96.9</td>\n",
       "      <td>75.1</td>\n",
       "      <td>92.8</td>\n",
       "      <td>97.5</td>\n",
       "      <td>93.1</td>\n",
       "    </tr>\n",
       "  </tbody>\n",
       "</table>\n",
       "</div>"
      ],
      "text/plain": [
       "Task         CoLA  MNLI  MRPC  QNLI   QQP   RTE  SST-2  STS-B\n",
       "Model                                                        \n",
       "BERT         60.5  86.7  89.3  92.7  72.1  70.1   94.9   87.6\n",
       "BiLSTM       11.6  65.6  81.8  74.6  62.5  57.4   82.8   70.3\n",
       "BiLSTM+Attn  18.6  67.6  83.9  74.3  60.1  58.4   83.0   72.8\n",
       "BiLSTM+CoVe  18.5  65.4  78.7  70.8  60.6  52.7   81.9   64.4\n",
       "BiLSTM+ELMo  32.1  67.2  84.7  75.5  61.1  57.4   89.3   70.3\n",
       "ERNIE        75.5  92.3  93.9  97.3  75.2  92.6   97.8   93.0\n",
       "RoBERTa      67.8  90.8  92.3  95.4  74.3  88.2   96.7   92.2\n",
       "T5           71.6  92.2  92.8  96.9  75.1  92.8   97.5   93.1"
      ]
     },
     "execution_count": 51,
     "metadata": {},
     "output_type": "execute_result"
    }
   ],
   "source": [
    "glue"
   ]
  },
  {
   "cell_type": "code",
   "execution_count": null,
   "id": "1703e0d8-db95-47f9-9271-973257306c78",
   "metadata": {},
   "outputs": [],
   "source": []
  }
 ],
 "metadata": {
  "kernelspec": {
   "display_name": "Python (tfds2)",
   "language": "python",
   "name": "tfds2"
  },
  "language_info": {
   "codemirror_mode": {
    "name": "ipython",
    "version": 3
   },
   "file_extension": ".py",
   "mimetype": "text/x-python",
   "name": "python",
   "nbconvert_exporter": "python",
   "pygments_lexer": "ipython3",
   "version": "3.8.6"
  }
 },
 "nbformat": 4,
 "nbformat_minor": 5
}
