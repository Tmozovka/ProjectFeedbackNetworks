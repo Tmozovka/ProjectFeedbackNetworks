{
 "cells": [
  {
   "cell_type": "code",
   "execution_count": null,
   "id": "3ad68ddc-7336-45e8-8749-e7556ff71756",
   "metadata": {},
   "outputs": [],
   "source": [
    "import sys\n",
    "sys.path.append('../')\n",
    "import tensorflow as tf\n",
    "from src.models.FeedbackModelBuilder import VGG16FeedbackFrozen4BlockTo1Block, VGG16Frozen4BlockTo1Block\n",
    "from src.DatasetNoise import tf_gaussian_noise, tf_salt_pepper_noise\n",
    "\n",
    "\n",
    "batch_size = 8\n",
    "num_classes = 16\n",
    "img_size = 224\n",
    "input_shape = (None, img_size, img_size, 3) \n",
    "\n",
    "path_to_datasets = '../../experiments/create_datasets/normalize_dataset/saved_datasets/'\n",
    "\n",
    "test_ds_prepared_without_batch = tf.data.Dataset.load(os.path.join(path_to_datasets, \"test_ds_without_batching\"))\n",
    "\n",
    "models = {\n",
    "    \"VGG16FeedbackFrozen4BlockTo1Block\": VGG16FeedbackFrozen4BlockTo1Block, \n",
    "    \"VGG16Frozen4BlockTo1Block\": VGG16Frozen4BlockTo1Block\n",
    "}\n",
    "datasets = {\"without_noise\": test_ds_prepared_without_batch.batch(batch_size).prefetch(4),\n",
    "           \"gaussian_noise\": test_ds_prepared_without_batch.map(tf_gaussian_noise).batch(batch_size).prefetch(4),\n",
    "           \"salt_pepper_noise\": test_ds_prepared_without_batch.map(tf_salt_pepper_noise).batch(batch_size).prefetch(4)}\n",
    "\n",
    "for model_name, model in models.items():\n",
    "    for ds_name, test_ds in datasets.items():\n",
    "        X_test = list(map(lambda x: x[0], test_ds))\n",
    "        y_test = list(map(lambda x: x[1], test_ds))\n",
    "\n",
    "        confusion_matrix = get_confusion_matrix_for_model_and_data(X_test, y_test)\n",
    "        path_to_save = f\"confusion_matr_{model_name}_on_{dataset_name}.csv\"\n",
    "        visualize_confusion_matrix(confusion_matrix, model_name = model_name, dataset_name = dataset_name, path_to_save = path_to_save)"
   ]
  },
  {
   "cell_type": "code",
   "execution_count": null,
   "id": "ba70e66c-3f69-421b-9d00-779614f4f4f7",
   "metadata": {},
   "outputs": [],
   "source": []
  },
  {
   "cell_type": "code",
   "execution_count": null,
   "id": "81ad6c4a-8896-4347-9e59-58c7d0580a3a",
   "metadata": {},
   "outputs": [],
   "source": []
  },
  {
   "cell_type": "code",
   "execution_count": null,
   "id": "54060c31-cbc7-423a-8cb4-8e868d4cb101",
   "metadata": {},
   "outputs": [],
   "source": []
  },
  {
   "cell_type": "code",
   "execution_count": null,
   "id": "82781cbd-1a6b-46c6-9de8-d509e5e54aff",
   "metadata": {},
   "outputs": [],
   "source": []
  }
 ],
 "metadata": {
  "kernelspec": {
   "display_name": "Python (tfds2)",
   "language": "python",
   "name": "tfds2"
  },
  "language_info": {
   "codemirror_mode": {
    "name": "ipython",
    "version": 3
   },
   "file_extension": ".py",
   "mimetype": "text/x-python",
   "name": "python",
   "nbconvert_exporter": "python",
   "pygments_lexer": "ipython3",
   "version": "3.8.6"
  }
 },
 "nbformat": 4,
 "nbformat_minor": 5
}
