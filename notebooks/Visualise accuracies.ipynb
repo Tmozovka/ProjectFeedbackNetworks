{
 "cells": [
  {
   "cell_type": "code",
   "execution_count": 1,
   "id": "c0a61e8d-15cd-4726-92b7-085e0182ac75",
   "metadata": {},
   "outputs": [],
   "source": [
    "path_reports = \"../reports/\""
   ]
  },
  {
   "cell_type": "code",
   "execution_count": 15,
   "id": "8619f088-ac2d-413e-aa47-5608d7c18cdc",
   "metadata": {},
   "outputs": [
    {
     "name": "stdout",
     "output_type": "stream",
     "text": [
      "../reports/frozenVGG16/Feedback_5block_to_3block/accuracies.json\n",
      "../reports/frozenVGG16/Feedback_4block_to_4block/accuracies.json\n",
      "../reports/frozenVGG16/Feedback_4block_to_1block/accuracies.json\n",
      "../reports/frozenVGG16/Feedback_5block_to_4block/accuracies.json\n",
      "../reports/frozenVGG16/Feedback_5block_to_5block/accuracies.json\n",
      "../reports/notFrozenVGG16/VGG16Feedback 4Block To 1Block/accuracies.json\n",
      "../reports/frozenVGG16TrainGaussianNoise/Feedback_4block_to_4block/accuracies.json\n"
     ]
    }
   ],
   "source": [
    "from pathlib import Path\n",
    "\n",
    "pathlist = Path(path_reports).glob('**/accuracies.json')\n",
    "for path in pathlist:\n",
    "     # because path is object not string\n",
    "     if 'Feedback_4block_to_1block_10_epochs' not in str(path):\n",
    "         path_in_str = str(path)\n",
    "         print(path_in_str)"
   ]
  },
  {
   "cell_type": "code",
   "execution_count": null,
   "id": "46d8220f-659d-4b54-a1f9-ae8202edc060",
   "metadata": {},
   "outputs": [],
   "source": []
  }
 ],
 "metadata": {
  "kernelspec": {
   "name": "python3",
   "language": "python",
   "display_name": "Python 3"
  },
  "language_info": {
   "codemirror_mode": {
    "name": "ipython",
    "version": 3
   },
   "file_extension": ".py",
   "mimetype": "text/x-python",
   "name": "python",
   "nbconvert_exporter": "python",
   "pygments_lexer": "ipython3",
   "version": "3.8.6"
  }
 },
 "nbformat": 4,
 "nbformat_minor": 5
}