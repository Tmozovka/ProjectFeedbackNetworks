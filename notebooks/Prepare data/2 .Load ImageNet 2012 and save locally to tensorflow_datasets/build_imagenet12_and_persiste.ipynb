{
 "cells": [
  {
   "cell_type": "markdown",
   "source": [
    "# In this notebook the imagenet dataset is saved locally\n",
    "## Links:\n",
    "* Implementation is taken from this article: https://towardsdatascience.com/preparing-the-imagenet-dataset-with-tensorflow-c681916014ee\n",
    "* .tar files that are used to create the dataset: https://image-net.org/challenges/LSVRC/2012/2012-downloads.php (the registration is needed for success) The .tar files are saved into './dataset' folder"
   ],
   "metadata": {
    "collapsed": false
   }
  },
  {
   "cell_type": "code",
   "execution_count": null,
   "metadata": {
    "collapsed": true
   },
   "outputs": [],
   "source": [
    "import tensorflow_datasets as tfds\n",
    "import os\n",
    "import tensorflow as tf\n",
    "import numpy as np\n",
    "from matplotlib import pyplot as plt\n",
    "import json\n",
    "from collections import defaultdict\n",
    "from skimage import io\n",
    "from skimage.color import rgb2gray\n",
    "#from skimage.color import rgb2gray, rgb2grey\n",
    "from scipy.ndimage.filters import gaussian_filter\n",
    "import imageio"
   ]
  },
  {
   "cell_type": "code",
   "execution_count": null,
   "outputs": [],
   "source": [
    "dataset_dir = './dataset'  # directory where you downloaded the tar files to\n",
    "temp_dir = './temp'  # a temporary directory where the data will be stored intermediately"
   ],
   "metadata": {
    "collapsed": false,
    "pycharm": {
     "name": "#%%\n"
    }
   }
  },
  {
   "cell_type": "code",
   "execution_count": null,
   "outputs": [],
   "source": [
    "download_config = tfds.download.DownloadConfig(\n",
    "    extract_dir=os.path.join(temp_dir, 'extracted'),\n",
    "    manual_dir=dataset_dir\n",
    ")\n",
    "\n",
    "tfds.builder(\"imagenet2012\").download_and_prepare(download_config=download_config)"
   ],
   "metadata": {
    "collapsed": false,
    "pycharm": {
     "name": "#%%\n"
    }
   }
  },
  {
   "cell_type": "code",
   "execution_count": null,
   "outputs": [],
   "source": [
    "ds, ds_info = tfds.load('imagenet2012', split=['train','validation[50%:]', 'validation[:50%]'], with_info=True)"
   ],
   "metadata": {
    "collapsed": false,
    "pycharm": {
     "name": "#%%\n"
    }
   }
  },
  {
   "cell_type": "markdown",
   "source": [
    "# Usage example"
   ],
   "metadata": {
    "collapsed": false
   }
  },
  {
   "cell_type": "code",
   "execution_count": null,
   "outputs": [],
   "source": [
    "builder = tfds.builder(\"imagenet2012\")\n",
    "raw_train_ds, raw_valid_ds, raw_test_ds = builder.as_dataset(['train','validation[50:]', 'validation[:50]'], as_supervised=True)\n",
    "print(len(raw_train_ds))\n",
    "print(type(raw_train_ds))\n",
    "print(len(raw_valid_ds))\n",
    "print(type(raw_valid_ds))\n",
    "print(len(raw_test_ds))\n",
    "print(type(raw_test_ds))"
   ],
   "metadata": {
    "collapsed": false,
    "pycharm": {
     "name": "#%%\n"
    }
   }
  },
  {
   "cell_type": "markdown",
   "source": [],
   "metadata": {
    "collapsed": false
   }
  },
  {
   "cell_type": "code",
   "execution_count": null,
   "outputs": [],
   "source": [],
   "metadata": {
    "collapsed": false,
    "pycharm": {
     "name": "#%%\n"
    }
   }
  },
  {
   "cell_type": "code",
   "execution_count": null,
   "outputs": [],
   "source": [],
   "metadata": {
    "collapsed": false,
    "pycharm": {
     "name": "#%%\n"
    }
   }
  }
 ],
 "metadata": {
  "kernelspec": {
   "display_name": "Python 3",
   "language": "python",
   "name": "python3"
  },
  "language_info": {
   "codemirror_mode": {
    "name": "ipython",
    "version": 2
   },
   "file_extension": ".py",
   "mimetype": "text/x-python",
   "name": "python",
   "nbconvert_exporter": "python",
   "pygments_lexer": "ipython2",
   "version": "2.7.6"
  }
 },
 "nbformat": 4,
 "nbformat_minor": 0
}