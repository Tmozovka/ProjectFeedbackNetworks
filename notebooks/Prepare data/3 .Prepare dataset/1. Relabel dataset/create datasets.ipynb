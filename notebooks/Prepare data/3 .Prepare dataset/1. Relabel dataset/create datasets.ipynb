{
 "cells": [
  {
   "cell_type": "code",
   "execution_count": 1,
   "id": "4a80cb71-3630-4b8b-bd24-c6aed819bb69",
   "metadata": {},
   "outputs": [
    {
     "name": "stderr",
     "output_type": "stream",
     "text": [
      "2022-12-13 15:34:44.398301: I tensorflow/core/platform/cpu_feature_guard.cc:193] This TensorFlow binary is optimized with oneAPI Deep Neural Network Library (oneDNN) to use the following CPU instructions in performance-critical operations:  AVX2 AVX512F AVX512_VNNI FMA\n",
      "To enable them in other operations, rebuild TensorFlow with the appropriate compiler flags.\n",
      "2022-12-13 15:34:44.527925: I tensorflow/core/util/port.cc:104] oneDNN custom operations are on. You may see slightly different numerical results due to floating-point round-off errors from different computation orders. To turn them off, set the environment variable `TF_ENABLE_ONEDNN_OPTS=0`.\n",
      "2022-12-13 15:34:45.655978: W tensorflow/compiler/xla/stream_executor/platform/default/dso_loader.cc:64] Could not load dynamic library 'libnvinfer.so.7'; dlerror: libnvinfer.so.7: cannot open shared object file: No such file or directory; LD_LIBRARY_PATH: /opt/bwhpc/common/devel/cuda/11.4/lib64\n",
      "2022-12-13 15:34:45.656041: W tensorflow/compiler/xla/stream_executor/platform/default/dso_loader.cc:64] Could not load dynamic library 'libnvinfer_plugin.so.7'; dlerror: libnvinfer_plugin.so.7: cannot open shared object file: No such file or directory; LD_LIBRARY_PATH: /opt/bwhpc/common/devel/cuda/11.4/lib64\n",
      "2022-12-13 15:34:45.656048: W tensorflow/compiler/tf2tensorrt/utils/py_utils.cc:38] TF-TRT Warning: Cannot dlopen some TensorRT libraries. If you would like to use Nvidia GPU with TensorRT, please make sure the missing libraries mentioned above are installed properly.\n",
      "/scratch/slurm_tmpdir/job_21401659/ipykernel_3724925/940959600.py:11: DeprecationWarning: Please use `gaussian_filter` from the `scipy.ndimage` namespace, the `scipy.ndimage.filters` namespace is deprecated.\n",
      "  from scipy.ndimage.filters import gaussian_filter\n"
     ]
    }
   ],
   "source": [
    "import tensorflow_datasets as tfds\n",
    "import os\n",
    "import tensorflow as tf\n",
    "import numpy as np\n",
    "from matplotlib import pyplot as plt\n",
    "import json\n",
    "from collections import defaultdict\n",
    "from skimage import io\n",
    "from skimage.color import rgb2gray\n",
    "#from skimage.color import rgb2gray, rgb2grey\n",
    "from scipy.ndimage.filters import gaussian_filter\n",
    "import imageio\n",
    "import math"
   ]
  },
  {
   "cell_type": "code",
   "execution_count": null,
   "id": "15b3dd15-55bd-4e1f-9696-233a97e0f89f",
   "metadata": {},
   "outputs": [],
   "source": []
  },
  {
   "cell_type": "markdown",
   "id": "bbfc4155-3e3f-4a1f-acf8-e567b947396b",
   "metadata": {},
   "source": [
    "# create imagenet 2012"
   ]
  },
  {
   "cell_type": "code",
   "execution_count": null,
   "id": "efc6a510-05ca-4bad-a118-44f20e070d50",
   "metadata": {},
   "outputs": [],
   "source": [
    "dataset_dir = '../../dataset_files'  # directory where you downloaded the tar files to\n",
    "temp_dir = '../temp_dataset_data'"
   ]
  },
  {
   "cell_type": "code",
   "execution_count": null,
   "id": "d46223a4-a94f-4b41-a760-ec6bc87d9330",
   "metadata": {},
   "outputs": [],
   "source": [
    "download_config = tfds.download.DownloadConfig(\n",
    "    extract_dir=os.path.join(temp_dir, 'extracted'),\n",
    "    manual_dir=dataset_dir\n",
    ")\n",
    "\n",
    "tfds.builder(\"imagenet2012\").download_and_prepare(download_config=download_config)"
   ]
  },
  {
   "cell_type": "markdown",
   "id": "51888c06-c76a-476f-857f-8fc62fd7bc9d",
   "metadata": {},
   "source": [
    "# load dataset\n",
    "The loaded test dataset has all labels equal to -1. That is why the part of train dataset was taken also for test proposes"
   ]
  },
  {
   "cell_type": "code",
   "execution_count": 2,
   "id": "919d903f-6aa3-4370-a1bc-c7864c9c5068",
   "metadata": {},
   "outputs": [
    {
     "name": "stderr",
     "output_type": "stream",
     "text": [
      "2022-12-13 15:34:52.678073: I tensorflow/core/platform/cpu_feature_guard.cc:193] This TensorFlow binary is optimized with oneAPI Deep Neural Network Library (oneDNN) to use the following CPU instructions in performance-critical operations:  AVX2 AVX512F AVX512_VNNI FMA\n",
      "To enable them in other operations, rebuild TensorFlow with the appropriate compiler flags.\n",
      "2022-12-13 15:34:53.815373: I tensorflow/core/common_runtime/gpu/gpu_device.cc:1613] Created device /job:localhost/replica:0/task:0/device:GPU:0 with 30963 MB memory:  -> device: 0, name: Tesla V100-SXM2-32GB, pci bus id: 0000:89:00.0, compute capability: 7.0\n",
      "2022-12-13 15:34:53.816182: I tensorflow/core/common_runtime/gpu/gpu_device.cc:1613] Created device /job:localhost/replica:0/task:0/device:GPU:1 with 30963 MB memory:  -> device: 1, name: Tesla V100-SXM2-32GB, pci bus id: 0000:b2:00.0, compute capability: 7.0\n"
     ]
    },
    {
     "name": "stdout",
     "output_type": "stream",
     "text": [
      "INFO:tensorflow:Using MirroredStrategy with devices ('/job:localhost/replica:0/task:0/device:GPU:0', '/job:localhost/replica:0/task:0/device:GPU:1')\n"
     ]
    }
   ],
   "source": [
    "tf.debugging.set_log_device_placement(False)\n",
    "gpus = tf.config.list_logical_devices('GPU')\n",
    "strategy = tf.distribute.MirroredStrategy(gpus)\n",
    "with strategy.scope():\n",
    "    builder = tfds.builder(\"imagenet2012\")\n",
    "    raw_valid_ds, raw_test_ds, raw_train_ds = builder.as_dataset(['validation', 'train[0:50000]', 'train[50000:]'],as_supervised=True)"
   ]
  },
  {
   "cell_type": "code",
   "execution_count": 3,
   "id": "fc1ab13b-7320-43ca-9a39-355eb4edb438",
   "metadata": {},
   "outputs": [
    {
     "name": "stdout",
     "output_type": "stream",
     "text": [
      "1231167\n",
      "50000\n",
      "50000\n"
     ]
    }
   ],
   "source": [
    "print(len(raw_train_ds))\n",
    "print(len(raw_test_ds))\n",
    "print(len(raw_valid_ds))"
   ]
  },
  {
   "cell_type": "code",
   "execution_count": null,
   "id": "80b72df2-9932-4145-ba87-e022c740b12b",
   "metadata": {},
   "outputs": [],
   "source": [
    "\n",
    "#builder = tfds.builder(\"imagenet2012\")\n",
    "#raw_train_ds, raw_valid_ds, raw_test_ds = builder.as_dataset(['train' , 'validation[50%:]','validation[:50%]'],as_supervised=True)"
   ]
  },
  {
   "cell_type": "markdown",
   "id": "1f1c234e-0dbd-4af0-bc5f-903de7059f26",
   "metadata": {},
   "source": [
    "# prepare dataset"
   ]
  },
  {
   "cell_type": "code",
   "execution_count": 4,
   "id": "7ed443f0-0147-4fde-a2bb-cf9631a200e0",
   "metadata": {},
   "outputs": [],
   "source": [
    "with open('./mapping.json') as json_file:\n",
    "    subclass_to_class_int = json.load(json_file)\n",
    "    \n",
    "labels = builder.info.features['label'].names\n",
    "\n",
    "tensor_keys = list(range(len(labels)))\n",
    "tensor_values = list()\n",
    "for label in labels:\n",
    "    if label in subclass_to_class_int.keys():\n",
    "        tensor_values.append(subclass_to_class_int[label])\n",
    "    else:\n",
    "        tensor_values.append(16)\n",
    "        \n",
    "table = tf.lookup.StaticHashTable(\n",
    "    initializer=tf.lookup.KeyValueTensorInitializer(\n",
    "        keys=tf.constant(tensor_keys, dtype=tf.int64),\n",
    "        values=tf.constant(tensor_values,  dtype=tf.int64),\n",
    "    ),\n",
    "    default_value= tf.constant(0,  dtype=tf.int64)\n",
    ")\n",
    "\n",
    "def relabel_map(x, y):\n",
    "    return x, table.lookup(y)"
   ]
  },
  {
   "cell_type": "code",
   "execution_count": 5,
   "id": "7ba2a69c-83ac-4544-be2a-b709ba3cd24c",
   "metadata": {},
   "outputs": [],
   "source": [
    "def resize(x, y):\n",
    "    x = tf.cast(x, tf.float32) / 255.0\n",
    "    x = tf.image.resize(x, (224, 224))\n",
    "    return x, y\n",
    "\n",
    "def prepare_ds(ds, batch_size):\n",
    "    dataset_mapped = ds.map(resize).map(relabel_map)\n",
    "    dataset_size_after = 0\n",
    "    for _, label in dataset_mapped:\n",
    "        if label != 16:\n",
    "            dataset_size_after += 1\n",
    "    dataset_filtered = dataset_mapped.filter(lambda _, label : label != 16)\n",
    "    dataset_filtered = dataset_filtered.apply(tf.data.experimental.assert_cardinality(dataset_size_after))\n",
    "    dataset_prepared = dataset_filtered.shuffle(10000).batch(batch_size).prefetch(4)\n",
    "    return dataset_prepared\n",
    "\n",
    "def prepare_ds_without_batching(ds):\n",
    "    dataset_mapped = ds.map(resize).map(relabel_map)\n",
    "    dataset_size_after = 0\n",
    "    for _, label in dataset_mapped:\n",
    "        if label != 16:\n",
    "            dataset_size_after += 1\n",
    "    dataset_filtered = dataset_mapped.filter(lambda _, label : label != 16)\n",
    "    dataset_filtered = dataset_filtered.apply(tf.data.experimental.assert_cardinality(dataset_size_after))\n",
    "    dataset_prepared = dataset_filtered\n",
    "    return dataset_prepared"
   ]
  },
  {
   "cell_type": "markdown",
   "source": [
    "# After the outsorting the other labels, the dataset became much smaller. To save the time during the dataset loading procedure, the created datasets are persisted locally"
   ],
   "metadata": {
    "collapsed": false
   }
  },
  {
   "cell_type": "code",
   "execution_count": 6,
   "id": "c0914e16-1bf6-4f9d-ab76-59afb5c34143",
   "metadata": {},
   "outputs": [
    {
     "name": "stdout",
     "output_type": "stream",
     "text": [
      "INFO:tensorflow:Using MirroredStrategy with devices ('/job:localhost/replica:0/task:0/device:GPU:0', '/job:localhost/replica:0/task:0/device:GPU:1')\n"
     ]
    },
    {
     "name": "stderr",
     "output_type": "stream",
     "text": [
      "INFO:tensorflow:Using MirroredStrategy with devices ('/job:localhost/replica:0/task:0/device:GPU:0', '/job:localhost/replica:0/task:0/device:GPU:1')\n"
     ]
    },
    {
     "name": "stdout",
     "output_type": "stream",
     "text": [
      "WARNING:tensorflow:From /opt/bwhpc/common/jupyter/tensorflow/2022-12-05/lib/python3.8/site-packages/tensorflow/python/autograph/pyct/static_analysis/liveness.py:83: Analyzer.lamba_check (from tensorflow.python.autograph.pyct.static_analysis.liveness) is deprecated and will be removed after 2023-09-23.\n",
      "Instructions for updating:\n",
      "Lambda fuctions will be no more assumed to be used in the statement where they are used, or at least in the same block. https://github.com/tensorflow/tensorflow/issues/56089\n"
     ]
    },
    {
     "name": "stderr",
     "output_type": "stream",
     "text": [
      "WARNING:tensorflow:From /opt/bwhpc/common/jupyter/tensorflow/2022-12-05/lib/python3.8/site-packages/tensorflow/python/autograph/pyct/static_analysis/liveness.py:83: Analyzer.lamba_check (from tensorflow.python.autograph.pyct.static_analysis.liveness) is deprecated and will be removed after 2023-09-23.\n",
      "Instructions for updating:\n",
      "Lambda fuctions will be no more assumed to be used in the statement where they are used, or at least in the same block. https://github.com/tensorflow/tensorflow/issues/56089\n"
     ]
    }
   ],
   "source": [
    "tf.debugging.set_log_device_placement(False)\n",
    "gpus = tf.config.list_logical_devices('GPU')\n",
    "strategy = tf.distribute.MirroredStrategy(gpus)\n",
    "with strategy.scope():\n",
    "    for ds, ds_name in zip([raw_valid_ds, raw_test_ds, raw_train_ds],['valid', 'test', 'train']):\n",
    "        ds_without_batching = prepare_ds_without_batching(ds)\n",
    "        tf.data.Dataset.save(ds_without_batching, \"./saved_datasets/{0}_ds_without_batching\".format(ds_name))"
   ]
  },
  {
   "cell_type": "code",
   "execution_count": null,
   "id": "ade4561c-e909-4fa8-89a0-bd92ad25076b",
   "metadata": {},
   "outputs": [],
   "source": []
  },
  {
   "cell_type": "code",
   "execution_count": null,
   "id": "10d6228e-7557-4534-8996-9b509e3374ce",
   "metadata": {},
   "outputs": [],
   "source": []
  },
  {
   "cell_type": "code",
   "execution_count": null,
   "id": "88ba1a76-e57c-4e03-8994-39cd664e18af",
   "metadata": {},
   "outputs": [],
   "source": []
  }
 ],
 "metadata": {
  "kernelspec": {
   "name": "python3",
   "language": "python",
   "display_name": "Python 3"
  },
  "language_info": {
   "codemirror_mode": {
    "name": "ipython",
    "version": 3
   },
   "file_extension": ".py",
   "mimetype": "text/x-python",
   "name": "python",
   "nbconvert_exporter": "python",
   "pygments_lexer": "ipython3",
   "version": "3.8.6"
  }
 },
 "nbformat": 4,
 "nbformat_minor": 5
}