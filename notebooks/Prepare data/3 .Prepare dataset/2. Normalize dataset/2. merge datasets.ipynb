{
 "cells": [
  {
   "cell_type": "code",
   "execution_count": 1,
   "id": "820f7805-bab8-467a-9260-43a30a17db15",
   "metadata": {},
   "outputs": [
    {
     "name": "stdout",
     "output_type": "stream",
     "text": [
      "env: XLA_FLAGS=--xla_gpu_cuda_data_dir=/opt/bwhpc/common/devel/cuda/11.8\n"
     ]
    }
   ],
   "source": [
    "%env XLA_FLAGS=--xla_gpu_cuda_data_dir=/opt/bwhpc/common/devel/cuda/11.8"
   ]
  },
  {
   "cell_type": "code",
   "execution_count": 2,
   "id": "3e71c992-70a8-4f8d-907e-28d9189e0665",
   "metadata": {},
   "outputs": [
    {
     "name": "stderr",
     "output_type": "stream",
     "text": [
      "2023-01-09 16:20:08.601253: I tensorflow/core/platform/cpu_feature_guard.cc:193] This TensorFlow binary is optimized with oneAPI Deep Neural Network Library (oneDNN) to use the following CPU instructions in performance-critical operations:  AVX2 AVX512F AVX512_VNNI FMA\n",
      "To enable them in other operations, rebuild TensorFlow with the appropriate compiler flags.\n",
      "2023-01-09 16:20:14.857821: I tensorflow/core/util/port.cc:104] oneDNN custom operations are on. You may see slightly different numerical results due to floating-point round-off errors from different computation orders. To turn them off, set the environment variable `TF_ENABLE_ONEDNN_OPTS=0`.\n",
      "2023-01-09 16:20:34.701952: W tensorflow/compiler/xla/stream_executor/platform/default/dso_loader.cc:64] Could not load dynamic library 'libnvinfer.so.7'; dlerror: libnvinfer.so.7: cannot open shared object file: No such file or directory; LD_LIBRARY_PATH: /opt/bwhpc/common/devel/cuda/11.8/lib64\n",
      "2023-01-09 16:20:34.711428: W tensorflow/compiler/xla/stream_executor/platform/default/dso_loader.cc:64] Could not load dynamic library 'libnvinfer_plugin.so.7'; dlerror: libnvinfer_plugin.so.7: cannot open shared object file: No such file or directory; LD_LIBRARY_PATH: /opt/bwhpc/common/devel/cuda/11.8/lib64\n",
      "2023-01-09 16:20:34.711440: W tensorflow/compiler/tf2tensorrt/utils/py_utils.cc:38] TF-TRT Warning: Cannot dlopen some TensorRT libraries. If you would like to use Nvidia GPU with TensorRT, please make sure the missing libraries mentioned above are installed properly.\n",
      "/scratch/slurm_tmpdir/job_21629832/ipykernel_113032/940959600.py:11: DeprecationWarning: Please use `gaussian_filter` from the `scipy.ndimage` namespace, the `scipy.ndimage.filters` namespace is deprecated.\n",
      "  from scipy.ndimage.filters import gaussian_filter\n"
     ]
    }
   ],
   "source": [
    "import tensorflow_datasets as tfds\n",
    "import os\n",
    "import tensorflow as tf\n",
    "import numpy as np\n",
    "from matplotlib import pyplot as plt\n",
    "import json\n",
    "from collections import defaultdict\n",
    "from skimage import io\n",
    "from skimage.color import rgb2gray\n",
    "#from skimage.color import rgb2gray, rgb2grey\n",
    "from scipy.ndimage.filters import gaussian_filter\n",
    "import imageio\n",
    "import math"
   ]
  },
  {
   "cell_type": "code",
   "execution_count": null,
   "id": "60e34dbb-9e64-4243-b021-fdf2ed22e537",
   "metadata": {},
   "outputs": [],
   "source": []
  },
  {
   "cell_type": "code",
   "execution_count": null,
   "id": "0f8f409d-6878-4dde-aa56-009fef2dd2e7",
   "metadata": {},
   "outputs": [],
   "source": []
  },
  {
   "cell_type": "code",
   "execution_count": null,
   "id": "a7550480-386f-45bc-8681-b008866685bb",
   "metadata": {},
   "outputs": [],
   "source": []
  },
  {
   "cell_type": "code",
   "execution_count": 3,
   "id": "bb7f1402-1e9b-400a-8987-8ec6b80e0177",
   "metadata": {},
   "outputs": [
    {
     "name": "stderr",
     "output_type": "stream",
     "text": [
      "2023-01-09 16:21:40.676292: I tensorflow/core/platform/cpu_feature_guard.cc:193] This TensorFlow binary is optimized with oneAPI Deep Neural Network Library (oneDNN) to use the following CPU instructions in performance-critical operations:  AVX2 AVX512F AVX512_VNNI FMA\n",
      "To enable them in other operations, rebuild TensorFlow with the appropriate compiler flags.\n",
      "2023-01-09 16:21:43.296337: I tensorflow/core/common_runtime/gpu/gpu_device.cc:1613] Created device /job:localhost/replica:0/task:0/device:GPU:0 with 337 MB memory:  -> device: 0, name: Tesla V100-SXM2-32GB, pci bus id: 0000:15:00.0, compute capability: 7.0\n"
     ]
    },
    {
     "name": "stdout",
     "output_type": "stream",
     "text": [
      "Executing op _EagerConst in device /job:localhost/replica:0/task:0/device:GPU:0\n",
      "Executing op VarHandleOp in device /job:localhost/replica:0/task:0/device:GPU:0\n",
      "Executing op AssignVariableOp in device /job:localhost/replica:0/task:0/device:GPU:0\n",
      "INFO:tensorflow:Using MirroredStrategy with devices ('/job:localhost/replica:0/task:0/device:GPU:0',)\n"
     ]
    },
    {
     "name": "stderr",
     "output_type": "stream",
     "text": [
      "2023-01-09 16:21:43.314554: I tensorflow/core/common_runtime/placer.cc:114] input: (_Arg): /job:localhost/replica:0/task:0/device:GPU:0\n",
      "2023-01-09 16:21:43.314593: I tensorflow/core/common_runtime/placer.cc:114] _EagerConst: (_EagerConst): /job:localhost/replica:0/task:0/device:GPU:0\n",
      "2023-01-09 16:21:43.314602: I tensorflow/core/common_runtime/placer.cc:114] output_RetVal: (_Retval): /job:localhost/replica:0/task:0/device:GPU:0\n",
      "2023-01-09 16:21:43.329714: I tensorflow/core/common_runtime/placer.cc:114] resource_RetVal: (_Retval): /job:localhost/replica:0/task:0/device:GPU:0\n",
      "2023-01-09 16:21:43.329744: I tensorflow/core/common_runtime/placer.cc:114] VarHandleOp: (VarHandleOp): /job:localhost/replica:0/task:0/device:GPU:0\n",
      "2023-01-09 16:21:43.331564: I tensorflow/core/common_runtime/placer.cc:114] resource: (_Arg): /job:localhost/replica:0/task:0/device:GPU:0\n",
      "2023-01-09 16:21:43.331584: I tensorflow/core/common_runtime/placer.cc:114] value: (_Arg): /job:localhost/replica:0/task:0/device:GPU:0\n",
      "2023-01-09 16:21:43.331592: I tensorflow/core/common_runtime/placer.cc:114] AssignVariableOp: (AssignVariableOp): /job:localhost/replica:0/task:0/device:GPU:0\n"
     ]
    }
   ],
   "source": [
    "tf.debugging.set_log_device_placement(True)\n",
    "gpus = tf.config.list_logical_devices('GPU')\n",
    "strategy = tf.distribute.MirroredStrategy(gpus)"
   ]
  },
  {
   "cell_type": "code",
   "execution_count": 5,
   "id": "a825e9a3-24fd-4e3d-83a7-398772549947",
   "metadata": {},
   "outputs": [],
   "source": [
    "path_to_datasets = './saved_datasets/'"
   ]
  },
  {
   "cell_type": "code",
   "execution_count": 6,
   "id": "ea67c8fc-8860-4e0a-9393-14cb288672e6",
   "metadata": {},
   "outputs": [
    {
     "name": "stdout",
     "output_type": "stream",
     "text": [
      "Executing op _EagerConst in device /job:localhost/replica:0/task:0/device:GPU:0\n",
      "Executing op LoadDataset in device /job:localhost/replica:0/task:0/device:CPU:0\n",
      "Executing op _EagerConst in device /job:localhost/replica:0/task:0/device:GPU:0\n",
      "Executing op LoadDataset in device /job:localhost/replica:0/task:0/device:CPU:0\n",
      "Executing op _EagerConst in device /job:localhost/replica:0/task:0/device:GPU:0\n",
      "Executing op LoadDataset in device /job:localhost/replica:0/task:0/device:CPU:0\n"
     ]
    },
    {
     "name": "stderr",
     "output_type": "stream",
     "text": [
      "2023-01-09 16:22:08.481242: I tensorflow/core/common_runtime/placer.cc:114] input: (_Arg): /job:localhost/replica:0/task:0/device:CPU:0\n",
      "2023-01-09 16:22:08.481271: I tensorflow/core/common_runtime/placer.cc:114] _EagerConst: (_EagerConst): /job:localhost/replica:0/task:0/device:GPU:0\n",
      "2023-01-09 16:22:08.481277: I tensorflow/core/common_runtime/placer.cc:114] output_RetVal: (_Retval): /job:localhost/replica:0/task:0/device:GPU:0\n",
      "2023-01-09 16:22:08.486684: I tensorflow/core/common_runtime/placer.cc:114] path: (_Arg): /job:localhost/replica:0/task:0/device:CPU:0\n",
      "2023-01-09 16:22:08.486710: I tensorflow/core/common_runtime/placer.cc:114] LoadDataset: (LoadDataset): /job:localhost/replica:0/task:0/device:CPU:0\n",
      "2023-01-09 16:22:08.486716: I tensorflow/core/common_runtime/placer.cc:114] handle_RetVal: (_Retval): /job:localhost/replica:0/task:0/device:CPU:0\n",
      "2023-01-09 16:22:08.523477: I tensorflow/core/common_runtime/placer.cc:114] path: (_Arg): /job:localhost/replica:0/task:0/device:CPU:0\n",
      "2023-01-09 16:22:08.523502: I tensorflow/core/common_runtime/placer.cc:114] LoadDataset: (LoadDataset): /job:localhost/replica:0/task:0/device:CPU:0\n",
      "2023-01-09 16:22:08.523508: I tensorflow/core/common_runtime/placer.cc:114] handle_RetVal: (_Retval): /job:localhost/replica:0/task:0/device:CPU:0\n",
      "2023-01-09 16:22:08.560126: I tensorflow/core/common_runtime/placer.cc:114] path: (_Arg): /job:localhost/replica:0/task:0/device:CPU:0\n",
      "2023-01-09 16:22:08.560147: I tensorflow/core/common_runtime/placer.cc:114] LoadDataset: (LoadDataset): /job:localhost/replica:0/task:0/device:CPU:0\n",
      "2023-01-09 16:22:08.560152: I tensorflow/core/common_runtime/placer.cc:114] handle_RetVal: (_Retval): /job:localhost/replica:0/task:0/device:CPU:0\n"
     ]
    }
   ],
   "source": [
    "with strategy.scope():\n",
    "    train_0_14 = tf.data.Dataset.load(os.path.join(path_to_datasets, \"train\", \"0-14_ds_without_batching\"))\n",
    "    train_14 = tf.data.Dataset.load(os.path.join(path_to_datasets, \"train\", \"14_ds_without_batching\"))\n",
    "    train_15 = tf.data.Dataset.load(os.path.join(path_to_datasets, \"train\", \"15_ds_without_batching\"))"
   ]
  },
  {
   "cell_type": "code",
   "execution_count": 7,
   "id": "dd796077-db65-4759-a0fa-4fbc50d11252",
   "metadata": {},
   "outputs": [
    {
     "name": "stdout",
     "output_type": "stream",
     "text": [
      "Executing op _EagerConst in device /job:localhost/replica:0/task:0/device:GPU:0\n",
      "Executing op TakeDataset in device /job:localhost/replica:0/task:0/device:CPU:0\n",
      "Executing op TakeDataset in device /job:localhost/replica:0/task:0/device:CPU:0\n"
     ]
    },
    {
     "name": "stderr",
     "output_type": "stream",
     "text": [
      "2023-01-09 16:22:21.908614: I tensorflow/core/common_runtime/placer.cc:114] input: (_Arg): /job:localhost/replica:0/task:0/device:GPU:0\n",
      "2023-01-09 16:22:21.908645: I tensorflow/core/common_runtime/placer.cc:114] _EagerConst: (_EagerConst): /job:localhost/replica:0/task:0/device:GPU:0\n",
      "2023-01-09 16:22:21.908651: I tensorflow/core/common_runtime/placer.cc:114] output_RetVal: (_Retval): /job:localhost/replica:0/task:0/device:GPU:0\n",
      "2023-01-09 16:22:21.910841: I tensorflow/core/common_runtime/placer.cc:114] input__dataset: (_Arg): /job:localhost/replica:0/task:0/device:CPU:0\n",
      "2023-01-09 16:22:21.910859: I tensorflow/core/common_runtime/placer.cc:114] count: (_Arg): /job:localhost/replica:0/task:0/device:CPU:0\n",
      "2023-01-09 16:22:21.910866: I tensorflow/core/common_runtime/placer.cc:114] TakeDataset: (TakeDataset): /job:localhost/replica:0/task:0/device:CPU:0\n",
      "2023-01-09 16:22:21.910872: I tensorflow/core/common_runtime/placer.cc:114] handle_RetVal: (_Retval): /job:localhost/replica:0/task:0/device:CPU:0\n"
     ]
    }
   ],
   "source": [
    "train_14_prepared = train_14.take(10000)\n",
    "train_15_prepared = train_15.take(10000)"
   ]
  },
  {
   "cell_type": "code",
   "execution_count": 14,
   "id": "fb99ce6e-4eb3-4178-af2f-d140f857f05a",
   "metadata": {},
   "outputs": [
    {
     "name": "stdout",
     "output_type": "stream",
     "text": [
      "Executing op DatasetCardinality in device /job:localhost/replica:0/task:0/device:CPU:0\n"
     ]
    },
    {
     "data": {
      "text/plain": [
       "10000"
      ]
     },
     "execution_count": 14,
     "metadata": {},
     "output_type": "execute_result"
    }
   ],
   "source": [
    "len(train_15_prepared)"
   ]
  },
  {
   "cell_type": "code",
   "execution_count": 13,
   "id": "9176be6d-7fef-43df-a197-a1475fffe5c2",
   "metadata": {},
   "outputs": [
    {
     "name": "stdout",
     "output_type": "stream",
     "text": [
      "Executing op DatasetCardinality in device /job:localhost/replica:0/task:0/device:CPU:0\n"
     ]
    },
    {
     "data": {
      "text/plain": [
       "130860"
      ]
     },
     "execution_count": 13,
     "metadata": {},
     "output_type": "execute_result"
    }
   ],
   "source": [
    "len(train_15)"
   ]
  },
  {
   "cell_type": "code",
   "execution_count": 15,
   "id": "e7b85b97-fb77-44da-a56e-d7ef060f3ab1",
   "metadata": {},
   "outputs": [
    {
     "name": "stdout",
     "output_type": "stream",
     "text": [
      "Executing op DatasetCardinality in device /job:localhost/replica:0/task:0/device:CPU:0\n"
     ]
    },
    {
     "data": {
      "text/plain": [
       "60175"
      ]
     },
     "execution_count": 15,
     "metadata": {},
     "output_type": "execute_result"
    }
   ],
   "source": [
    "len(train_0_14)"
   ]
  },
  {
   "cell_type": "code",
   "execution_count": 11,
   "id": "ac5e006f-8b92-47b5-900c-ddc75f1f1c1f",
   "metadata": {},
   "outputs": [
    {
     "name": "stdout",
     "output_type": "stream",
     "text": [
      "Executing op ConcatenateDataset in device /job:localhost/replica:0/task:0/device:CPU:0\n",
      "Executing op ConcatenateDataset in device /job:localhost/replica:0/task:0/device:CPU:0\n"
     ]
    },
    {
     "name": "stderr",
     "output_type": "stream",
     "text": [
      "2023-01-09 16:23:16.393769: I tensorflow/core/common_runtime/placer.cc:114] input__dataset: (_Arg): /job:localhost/replica:0/task:0/device:CPU:0\n",
      "2023-01-09 16:23:16.393797: I tensorflow/core/common_runtime/placer.cc:114] another__dataset: (_Arg): /job:localhost/replica:0/task:0/device:CPU:0\n",
      "2023-01-09 16:23:16.393805: I tensorflow/core/common_runtime/placer.cc:114] ConcatenateDataset: (ConcatenateDataset): /job:localhost/replica:0/task:0/device:CPU:0\n",
      "2023-01-09 16:23:16.393811: I tensorflow/core/common_runtime/placer.cc:114] handle_RetVal: (_Retval): /job:localhost/replica:0/task:0/device:CPU:0\n"
     ]
    }
   ],
   "source": [
    "res = train_0_14.concatenate(train_15_prepared).concatenate(train_14_prepared)"
   ]
  },
  {
   "cell_type": "code",
   "execution_count": 12,
   "id": "571b6dce-8e75-4ae8-8afa-33ef738265bc",
   "metadata": {},
   "outputs": [
    {
     "name": "stdout",
     "output_type": "stream",
     "text": [
      "Executing op _EagerConst in device /job:localhost/replica:0/task:0/device:GPU:0\n",
      "Executing op SaveDataset in device /job:localhost/replica:0/task:0/device:CPU:0\n"
     ]
    },
    {
     "name": "stderr",
     "output_type": "stream",
     "text": [
      "2023-01-09 16:23:55.652204: I tensorflow/core/common_runtime/placer.cc:114] input__dataset: (_Arg): /job:localhost/replica:0/task:0/device:CPU:0\n",
      "2023-01-09 16:23:55.652238: I tensorflow/core/common_runtime/placer.cc:114] path: (_Arg): /job:localhost/replica:0/task:0/device:CPU:0\n",
      "2023-01-09 16:23:55.652250: I tensorflow/core/common_runtime/placer.cc:114] SaveDataset: (SaveDataset): /job:localhost/replica:0/task:0/device:CPU:0\n",
      "2023-01-09 16:23:55.704982: I tensorflow/core/common_runtime/placer.cc:114] args_0: (_Arg): /job:localhost/replica:0/task:0/device:CPU:0\n",
      "2023-01-09 16:23:55.705003: I tensorflow/core/common_runtime/placer.cc:114] args_1: (_Arg): /job:localhost/replica:0/task:0/device:CPU:0\n",
      "2023-01-09 16:23:56.215650: I tensorflow/core/common_runtime/placer.cc:114] args_0: (_Arg): /job:localhost/replica:0/task:0/device:CPU:0\n",
      "2023-01-09 16:23:56.215680: I tensorflow/core/common_runtime/placer.cc:114] ParallelInterleaveDatasetV4: (ParallelInterleaveDatasetV4): /job:localhost/replica:0/task:0/device:CPU:0\n",
      "2023-01-09 16:23:56.215686: I tensorflow/core/common_runtime/placer.cc:114] Identity: (Identity): /job:localhost/replica:0/task:0/device:CPU:0\n",
      "2023-01-09 16:23:56.215690: I tensorflow/core/common_runtime/placer.cc:114] FakeSink0: (Identity): /job:localhost/replica:0/task:0/device:CPU:0\n",
      "2023-01-09 16:23:56.215694: I tensorflow/core/common_runtime/placer.cc:114] identity_RetVal: (_Retval): /job:localhost/replica:0/task:0/device:CPU:0\n",
      "2023-01-09 16:23:56.215700: I tensorflow/core/common_runtime/placer.cc:114] cycle_length: (Const): /job:localhost/replica:0/task:0/device:CPU:0\n",
      "2023-01-09 16:23:56.215705: I tensorflow/core/common_runtime/placer.cc:114] block_length: (Const): /job:localhost/replica:0/task:0/device:CPU:0\n",
      "2023-01-09 16:23:56.215709: I tensorflow/core/common_runtime/placer.cc:114] buffer_output_elements: (Const): /job:localhost/replica:0/task:0/device:CPU:0\n",
      "2023-01-09 16:23:56.215713: I tensorflow/core/common_runtime/placer.cc:114] prefetch_input_elements: (Const): /job:localhost/replica:0/task:0/device:CPU:0\n",
      "2023-01-09 16:23:56.215718: I tensorflow/core/common_runtime/placer.cc:114] num_parallel_calls: (Const): /job:localhost/replica:0/task:0/device:CPU:0\n",
      "2023-01-09 16:23:56.477328: I tensorflow/core/common_runtime/placer.cc:114] args_0: (_Arg): /job:localhost/replica:0/task:0/device:CPU:0\n",
      "2023-01-09 16:23:56.477358: I tensorflow/core/common_runtime/placer.cc:114] Identity: (Identity): /job:localhost/replica:0/task:0/device:CPU:0\n",
      "2023-01-09 16:23:56.477364: I tensorflow/core/common_runtime/placer.cc:114] FakeSink0: (Identity): /job:localhost/replica:0/task:0/device:CPU:0\n",
      "2023-01-09 16:23:56.477369: I tensorflow/core/common_runtime/placer.cc:114] identity_RetVal: (_Retval): /job:localhost/replica:0/task:0/device:CPU:0\n",
      "2023-01-09 16:24:33.526670: I tensorflow/core/common_runtime/placer.cc:114] args_0: (_Arg): /job:localhost/replica:0/task:0/device:CPU:0\n",
      "2023-01-09 16:24:33.535977: I tensorflow/core/common_runtime/placer.cc:114] ParallelInterleaveDatasetV4: (ParallelInterleaveDatasetV4): /job:localhost/replica:0/task:0/device:CPU:0\n",
      "2023-01-09 16:24:33.536011: I tensorflow/core/common_runtime/placer.cc:114] Identity: (Identity): /job:localhost/replica:0/task:0/device:CPU:0\n",
      "2023-01-09 16:24:33.536018: I tensorflow/core/common_runtime/placer.cc:114] FakeSink0: (Identity): /job:localhost/replica:0/task:0/device:CPU:0\n",
      "2023-01-09 16:24:33.536023: I tensorflow/core/common_runtime/placer.cc:114] identity_RetVal: (_Retval): /job:localhost/replica:0/task:0/device:CPU:0\n",
      "2023-01-09 16:24:33.536045: I tensorflow/core/common_runtime/placer.cc:114] cycle_length: (Const): /job:localhost/replica:0/task:0/device:CPU:0\n",
      "2023-01-09 16:24:33.536052: I tensorflow/core/common_runtime/placer.cc:114] block_length: (Const): /job:localhost/replica:0/task:0/device:CPU:0\n",
      "2023-01-09 16:24:33.536057: I tensorflow/core/common_runtime/placer.cc:114] buffer_output_elements: (Const): /job:localhost/replica:0/task:0/device:CPU:0\n",
      "2023-01-09 16:24:33.536062: I tensorflow/core/common_runtime/placer.cc:114] prefetch_input_elements: (Const): /job:localhost/replica:0/task:0/device:CPU:0\n",
      "2023-01-09 16:24:33.536067: I tensorflow/core/common_runtime/placer.cc:114] num_parallel_calls: (Const): /job:localhost/replica:0/task:0/device:CPU:0\n"
     ]
    },
    {
     "name": "stdout",
     "output_type": "stream",
     "text": [
      "input: (_Arg): /job:localhost/replica:0/task:0/device:GPU:0\n",
      "_EagerConst: (_EagerConst): /job:localhost/replica:0/task:0/device:GPU:0\n",
      "output_RetVal: (_Retval): /job:localhost/replica:0/task:0/device:GPU:0\n",
      "resource_RetVal: (_Retval): /job:localhost/replica:0/task:0/device:GPU:0\n",
      "VarHandleOp: (VarHandleOp): /job:localhost/replica:0/task:0/device:GPU:0\n",
      "resource: (_Arg): /job:localhost/replica:0/task:0/device:GPU:0\n",
      "value: (_Arg): /job:localhost/replica:0/task:0/device:GPU:0\n",
      "AssignVariableOp: (AssignVariableOp): /job:localhost/replica:0/task:0/device:GPU:0\n",
      "input: (_Arg): /job:localhost/replica:0/task:0/device:CPU:0\n",
      "_EagerConst: (_EagerConst): /job:localhost/replica:0/task:0/device:GPU:0\n",
      "output_RetVal: (_Retval): /job:localhost/replica:0/task:0/device:GPU:0\n",
      "path: (_Arg): /job:localhost/replica:0/task:0/device:CPU:0\n",
      "LoadDataset: (LoadDataset): /job:localhost/replica:0/task:0/device:CPU:0\n",
      "handle_RetVal: (_Retval): /job:localhost/replica:0/task:0/device:CPU:0\n",
      "path: (_Arg): /job:localhost/replica:0/task:0/device:CPU:0\n",
      "LoadDataset: (LoadDataset): /job:localhost/replica:0/task:0/device:CPU:0\n",
      "handle_RetVal: (_Retval): /job:localhost/replica:0/task:0/device:CPU:0\n",
      "path: (_Arg): /job:localhost/replica:0/task:0/device:CPU:0\n",
      "LoadDataset: (LoadDataset): /job:localhost/replica:0/task:0/device:CPU:0\n",
      "handle_RetVal: (_Retval): /job:localhost/replica:0/task:0/device:CPU:0\n",
      "input: (_Arg): /job:localhost/replica:0/task:0/device:GPU:0\n",
      "_EagerConst: (_EagerConst): /job:localhost/replica:0/task:0/device:GPU:0\n",
      "output_RetVal: (_Retval): /job:localhost/replica:0/task:0/device:GPU:0\n",
      "input__dataset: (_Arg): /job:localhost/replica:0/task:0/device:CPU:0\n",
      "count: (_Arg): /job:localhost/replica:0/task:0/device:CPU:0\n",
      "TakeDataset: (TakeDataset): /job:localhost/replica:0/task:0/device:CPU:0\n",
      "handle_RetVal: (_Retval): /job:localhost/replica:0/task:0/device:CPU:0\n",
      "input__dataset: (_Arg): /job:localhost/replica:0/task:0/device:CPU:0\n",
      "DatasetCardinality: (DatasetCardinality): /job:localhost/replica:0/task:0/device:CPU:0\n",
      "cardinality_RetVal: (_Retval): /job:localhost/replica:0/task:0/device:CPU:0\n",
      "input__dataset: (_Arg): /job:localhost/replica:0/task:0/device:CPU:0\n",
      "another__dataset: (_Arg): /job:localhost/replica:0/task:0/device:CPU:0\n",
      "ConcatenateDataset: (ConcatenateDataset): /job:localhost/replica:0/task:0/device:CPU:0\n",
      "handle_RetVal: (_Retval): /job:localhost/replica:0/task:0/device:CPU:0\n",
      "input__dataset: (_Arg): /job:localhost/replica:0/task:0/device:CPU:0\n",
      "path: (_Arg): /job:localhost/replica:0/task:0/device:CPU:0\n",
      "SaveDataset: (SaveDataset): /job:localhost/replica:0/task:0/device:CPU:0\n",
      "args_0: (_Arg): /job:localhost/replica:0/task:0/device:CPU:0\n",
      "args_1: (_Arg): /job:localhost/replica:0/task:0/device:CPU:0\n",
      "args_0: (_Arg): /job:localhost/replica:0/task:0/device:CPU:0\n",
      "ParallelInterleaveDatasetV4: (ParallelInterleaveDatasetV4): /job:localhost/replica:0/task:0/device:CPU:0\n",
      "Identity: (Identity): /job:localhost/replica:0/task:0/device:CPU:0\n",
      "FakeSink0: (Identity): /job:localhost/replica:0/task:0/device:CPU:0\n",
      "identity_RetVal: (_Retval): /job:localhost/replica:0/task:0/device:CPU:0\n",
      "cycle_length: (Const): /job:localhost/replica:0/task:0/device:CPU:0\n",
      "block_length: (Const): /job:localhost/replica:0/task:0/device:CPU:0\n",
      "buffer_output_elements: (Const): /job:localhost/replica:0/task:0/device:CPU:0\n",
      "prefetch_input_elements: (Const): /job:localhost/replica:0/task:0/device:CPU:0\n",
      "num_parallel_calls: (Const): /job:localhost/replica:0/task:0/device:CPU:0\n",
      "args_0: (_Arg): /job:localhost/replica:0/task:0/device:CPU:0\n",
      "Identity: (Identity): /job:localhost/replica:0/task:0/device:CPU:0\n",
      "FakeSink0: (Identity): /job:localhost/replica:0/task:0/device:CPU:0\n",
      "identity_RetVal: (_Retval): /job:localhost/replica:0/task:0/device:CPU:0\n",
      "args_0: (_Arg): /job:localhost/replica:0/task:0/device:CPU:0\n",
      "ParallelInterleaveDatasetV4: (ParallelInterleaveDatasetV4): /job:localhost/replica:0/task:0/device:CPU:0\n",
      "Identity: (Identity): /job:localhost/replica:0/task:0/device:CPU:0\n",
      "FakeSink0: (Identity): /job:localhost/replica:0/task:0/device:CPU:0\n",
      "identity_RetVal: (_Retval): /job:localhost/replica:0/task:0/device:CPU:0\n",
      "cycle_length:"
     ]
    },
    {
     "name": "stderr",
     "output_type": "stream",
     "text": [
      "2023-01-09 16:24:35.893342: I tensorflow/core/common_runtime/placer.cc:114] args_0: (_Arg): /job:localhost/replica:0/task:0/device:CPU:0\n",
      "2023-01-09 16:24:35.893375: I tensorflow/core/common_runtime/placer.cc:114] Identity: (Identity): /job:localhost/replica:0/task:0/device:CPU:0\n",
      "2023-01-09 16:24:35.893381: I tensorflow/core/common_runtime/placer.cc:114] FakeSink0: (Identity): /job:localhost/replica:0/task:0/device:CPU:0\n",
      "2023-01-09 16:24:35.893386: I tensorflow/core/common_runtime/placer.cc:114] identity_RetVal: (_Retval): /job:localhost/replica:0/task:0/device:CPU:0\n",
      "2023-01-09 16:24:41.676006: I tensorflow/core/common_runtime/placer.cc:114] args_0: (_Arg): /job:localhost/replica:0/task:0/device:CPU:0\n",
      "2023-01-09 16:24:41.676045: I tensorflow/core/common_runtime/placer.cc:114] ParallelInterleaveDatasetV4: (ParallelInterleaveDatasetV4): /job:localhost/replica:0/task:0/device:CPU:0\n",
      "2023-01-09 16:24:41.676052: I tensorflow/core/common_runtime/placer.cc:114] Identity: (Identity): /job:localhost/replica:0/task:0/device:CPU:0\n",
      "2023-01-09 16:24:41.676056: I tensorflow/core/common_runtime/placer.cc:114] FakeSink0: (Identity): /job:localhost/replica:0/task:0/device:CPU:0\n",
      "2023-01-09 16:24:41.676061: I tensorflow/core/common_runtime/placer.cc:114] identity_RetVal: (_Retval): /job:localhost/replica:0/task:0/device:CPU:0\n",
      "2023-01-09 16:24:41.676066: I tensorflow/core/common_runtime/placer.cc:114] cycle_length: (Const): /job:localhost/replica:0/task:0/device:CPU:0\n",
      "2023-01-09 16:24:41.676071: I tensorflow/core/common_runtime/placer.cc:114] block_length: (Const): /job:localhost/replica:0/task:0/device:CPU:0\n",
      "2023-01-09 16:24:41.676076: I tensorflow/core/common_runtime/placer.cc:114] buffer_output_elements: (Const): /job:localhost/replica:0/task:0/device:CPU:0\n",
      "2023-01-09 16:24:41.676080: I tensorflow/core/common_runtime/placer.cc:114] prefetch_input_elements: (Const): /job:localhost/replica:0/task:0/device:CPU:0\n",
      "2023-01-09 16:24:41.676084: I tensorflow/core/common_runtime/placer.cc:114] num_parallel_calls: (Const): /job:localhost/replica:0/task:0/device:CPU:0\n",
      "2023-01-09 16:24:41.844938: I tensorflow/core/common_runtime/placer.cc:114] args_0: (_Arg): /job:localhost/replica:0/task:0/device:CPU:0\n",
      "2023-01-09 16:24:41.844969: I tensorflow/core/common_runtime/placer.cc:114] Identity: (Identity): /job:localhost/replica:0/task:0/device:CPU:0\n",
      "2023-01-09 16:24:41.844975: I tensorflow/core/common_runtime/placer.cc:114] FakeSink0: (Identity): /job:localhost/replica:0/task:0/device:CPU:0\n",
      "2023-01-09 16:24:41.844980: I tensorflow/core/common_runtime/placer.cc:114] identity_RetVal: (_Retval): /job:localhost/replica:0/task:0/device:CPU:0\n"
     ]
    }
   ],
   "source": [
    "tf.data.Dataset.save(res, \"./saved_datasets/train_ds_without_batching\")"
   ]
  },
  {
   "cell_type": "code",
   "execution_count": null,
   "id": "d21bb0b0-e972-4db9-8fcf-1b284d8c49de",
   "metadata": {},
   "outputs": [],
   "source": []
  },
  {
   "cell_type": "code",
   "execution_count": null,
   "id": "eb3526e1-40b0-4987-84ee-6f09987271de",
   "metadata": {},
   "outputs": [],
   "source": []
  },
  {
   "cell_type": "code",
   "execution_count": null,
   "id": "2c20df48-e2d9-4b8c-85d6-0ad363dd5df7",
   "metadata": {},
   "outputs": [],
   "source": []
  },
  {
   "cell_type": "code",
   "execution_count": null,
   "id": "9405654e-a75a-4c02-a146-ff18e7f6f3d2",
   "metadata": {},
   "outputs": [],
   "source": []
  }
 ],
 "metadata": {
  "kernelspec": {
   "display_name": "Python (tfds2)",
   "language": "python",
   "name": "tfds2"
  },
  "language_info": {
   "codemirror_mode": {
    "name": "ipython",
    "version": 3
   },
   "file_extension": ".py",
   "mimetype": "text/x-python",
   "name": "python",
   "nbconvert_exporter": "python",
   "pygments_lexer": "ipython3",
   "version": "3.8.6"
  }
 },
 "nbformat": 4,
 "nbformat_minor": 5
}
